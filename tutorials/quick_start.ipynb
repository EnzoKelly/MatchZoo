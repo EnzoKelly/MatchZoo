{
 "cells": [
  {
   "cell_type": "markdown",
   "metadata": {},
   "source": [
    "<img src=\"../artworks/matchzoo-logo.png\" alt=\"logo\" style=\"width:600px;float: center\"/>"
   ]
  },
  {
   "cell_type": "markdown",
   "metadata": {},
   "source": [
    "# MatchZoo Quick Start"
   ]
  },
  {
   "cell_type": "code",
   "execution_count": 1,
   "metadata": {
    "ExecuteTime": {
     "end_time": "2019-01-28T04:56:42.638702Z",
     "start_time": "2019-01-28T04:56:40.130494Z"
    }
   },
   "outputs": [
    {
     "name": "stderr",
     "output_type": "stream",
     "text": [
      "Using TensorFlow backend.\n"
     ]
    },
    {
     "name": "stdout",
     "output_type": "stream",
     "text": [
      "2.1.0\n"
     ]
    }
   ],
   "source": [
    "import matchzoo as mz\n",
    "print(mz.__version__)"
   ]
  },
  {
   "cell_type": "markdown",
   "metadata": {},
   "source": [
    "## Define Task"
   ]
  },
  {
   "cell_type": "markdown",
   "metadata": {},
   "source": [
    "There are two types of tasks available in MatchZoo. `mz.tasks.Ranking` and `mz.tasks.Classification`. We will use a ranking task for this demo."
   ]
  },
  {
   "cell_type": "code",
   "execution_count": 2,
   "metadata": {
    "ExecuteTime": {
     "end_time": "2019-01-28T04:56:42.648790Z",
     "start_time": "2019-01-28T04:56:42.641768Z"
    }
   },
   "outputs": [
    {
     "name": "stdout",
     "output_type": "stream",
     "text": [
      "Ranking Task\n"
     ]
    }
   ],
   "source": [
    "task = mz.tasks.Ranking()\n",
    "print(task)"
   ]
  },
  {
   "cell_type": "markdown",
   "metadata": {},
   "source": [
    "## Prepare Data"
   ]
  },
  {
   "cell_type": "code",
   "execution_count": 3,
   "metadata": {
    "ExecuteTime": {
     "end_time": "2019-01-28T04:56:42.675774Z",
     "start_time": "2019-01-28T04:56:42.650545Z"
    },
    "collapsed": true
   },
   "outputs": [],
   "source": [
    "train_raw = mz.datasets.toy.load_data(stage='train', task=task)\n",
    "test_raw = mz.datasets.toy.load_data(stage='test', task=task)"
   ]
  },
  {
   "cell_type": "code",
   "execution_count": 4,
   "metadata": {
    "ExecuteTime": {
     "end_time": "2019-01-28T04:56:42.687398Z",
     "start_time": "2019-01-28T04:56:42.678365Z"
    }
   },
   "outputs": [
    {
     "data": {
      "text/plain": [
       "matchzoo.data_pack.data_pack.DataPack"
      ]
     },
     "execution_count": 4,
     "metadata": {},
     "output_type": "execute_result"
    }
   ],
   "source": [
    "type(train_raw)"
   ]
  },
  {
   "cell_type": "markdown",
   "metadata": {},
   "source": [
    "`DataPack` is a MatchZoo native data structure that most MatchZoo data handling processes build upon. A `DataPack` is consists of three `pandas.DataFrame`:"
   ]
  },
  {
   "cell_type": "code",
   "execution_count": 5,
   "metadata": {
    "ExecuteTime": {
     "end_time": "2019-01-28T04:56:42.701290Z",
     "start_time": "2019-01-28T04:56:42.690548Z"
    }
   },
   "outputs": [
    {
     "data": {
      "text/html": [
       "<div>\n",
       "<style scoped>\n",
       "    .dataframe tbody tr th:only-of-type {\n",
       "        vertical-align: middle;\n",
       "    }\n",
       "\n",
       "    .dataframe tbody tr th {\n",
       "        vertical-align: top;\n",
       "    }\n",
       "\n",
       "    .dataframe thead th {\n",
       "        text-align: right;\n",
       "    }\n",
       "</style>\n",
       "<table border=\"1\" class=\"dataframe\">\n",
       "  <thead>\n",
       "    <tr style=\"text-align: right;\">\n",
       "      <th></th>\n",
       "      <th>text_left</th>\n",
       "    </tr>\n",
       "    <tr>\n",
       "      <th>id_left</th>\n",
       "      <th></th>\n",
       "    </tr>\n",
       "  </thead>\n",
       "  <tbody>\n",
       "    <tr>\n",
       "      <th>Q1</th>\n",
       "      <td>how are glacier caves formed?</td>\n",
       "    </tr>\n",
       "    <tr>\n",
       "      <th>Q2</th>\n",
       "      <td>How are the directions of the velocity and for...</td>\n",
       "    </tr>\n",
       "    <tr>\n",
       "      <th>Q5</th>\n",
       "      <td>how did apollo creed die</td>\n",
       "    </tr>\n",
       "    <tr>\n",
       "      <th>Q6</th>\n",
       "      <td>how long is the term for federal judges</td>\n",
       "    </tr>\n",
       "    <tr>\n",
       "      <th>Q7</th>\n",
       "      <td>how a beretta model 21 pistols magazines works</td>\n",
       "    </tr>\n",
       "  </tbody>\n",
       "</table>\n",
       "</div>"
      ],
      "text/plain": [
       "                                                 text_left\n",
       "id_left                                                   \n",
       "Q1                           how are glacier caves formed?\n",
       "Q2       How are the directions of the velocity and for...\n",
       "Q5                                how did apollo creed die\n",
       "Q6                 how long is the term for federal judges\n",
       "Q7          how a beretta model 21 pistols magazines works"
      ]
     },
     "execution_count": 5,
     "metadata": {},
     "output_type": "execute_result"
    }
   ],
   "source": [
    "train_raw.left.head()"
   ]
  },
  {
   "cell_type": "code",
   "execution_count": 6,
   "metadata": {
    "ExecuteTime": {
     "end_time": "2019-01-28T04:56:42.710661Z",
     "start_time": "2019-01-28T04:56:42.703616Z"
    }
   },
   "outputs": [
    {
     "data": {
      "text/html": [
       "<div>\n",
       "<style scoped>\n",
       "    .dataframe tbody tr th:only-of-type {\n",
       "        vertical-align: middle;\n",
       "    }\n",
       "\n",
       "    .dataframe tbody tr th {\n",
       "        vertical-align: top;\n",
       "    }\n",
       "\n",
       "    .dataframe thead th {\n",
       "        text-align: right;\n",
       "    }\n",
       "</style>\n",
       "<table border=\"1\" class=\"dataframe\">\n",
       "  <thead>\n",
       "    <tr style=\"text-align: right;\">\n",
       "      <th></th>\n",
       "      <th>text_right</th>\n",
       "    </tr>\n",
       "    <tr>\n",
       "      <th>id_right</th>\n",
       "      <th></th>\n",
       "    </tr>\n",
       "  </thead>\n",
       "  <tbody>\n",
       "    <tr>\n",
       "      <th>D1-0</th>\n",
       "      <td>A partly submerged glacier cave on Perito More...</td>\n",
       "    </tr>\n",
       "    <tr>\n",
       "      <th>D1-1</th>\n",
       "      <td>The ice facade is approximately 60 m high</td>\n",
       "    </tr>\n",
       "    <tr>\n",
       "      <th>D1-2</th>\n",
       "      <td>Ice formations in the Titlis glacier cave</td>\n",
       "    </tr>\n",
       "    <tr>\n",
       "      <th>D1-3</th>\n",
       "      <td>A glacier cave is a cave formed within the ice...</td>\n",
       "    </tr>\n",
       "    <tr>\n",
       "      <th>D1-4</th>\n",
       "      <td>Glacier caves are often called ice caves , but...</td>\n",
       "    </tr>\n",
       "  </tbody>\n",
       "</table>\n",
       "</div>"
      ],
      "text/plain": [
       "                                                 text_right\n",
       "id_right                                                   \n",
       "D1-0      A partly submerged glacier cave on Perito More...\n",
       "D1-1              The ice facade is approximately 60 m high\n",
       "D1-2              Ice formations in the Titlis glacier cave\n",
       "D1-3      A glacier cave is a cave formed within the ice...\n",
       "D1-4      Glacier caves are often called ice caves , but..."
      ]
     },
     "execution_count": 6,
     "metadata": {},
     "output_type": "execute_result"
    }
   ],
   "source": [
    "train_raw.right.head()"
   ]
  },
  {
   "cell_type": "code",
   "execution_count": 7,
   "metadata": {
    "ExecuteTime": {
     "end_time": "2019-01-28T04:56:42.721928Z",
     "start_time": "2019-01-28T04:56:42.713039Z"
    }
   },
   "outputs": [
    {
     "data": {
      "text/html": [
       "<div>\n",
       "<style scoped>\n",
       "    .dataframe tbody tr th:only-of-type {\n",
       "        vertical-align: middle;\n",
       "    }\n",
       "\n",
       "    .dataframe tbody tr th {\n",
       "        vertical-align: top;\n",
       "    }\n",
       "\n",
       "    .dataframe thead th {\n",
       "        text-align: right;\n",
       "    }\n",
       "</style>\n",
       "<table border=\"1\" class=\"dataframe\">\n",
       "  <thead>\n",
       "    <tr style=\"text-align: right;\">\n",
       "      <th></th>\n",
       "      <th>id_left</th>\n",
       "      <th>id_right</th>\n",
       "      <th>label</th>\n",
       "    </tr>\n",
       "  </thead>\n",
       "  <tbody>\n",
       "    <tr>\n",
       "      <th>0</th>\n",
       "      <td>Q1</td>\n",
       "      <td>D1-0</td>\n",
       "      <td>0.0</td>\n",
       "    </tr>\n",
       "    <tr>\n",
       "      <th>1</th>\n",
       "      <td>Q1</td>\n",
       "      <td>D1-1</td>\n",
       "      <td>0.0</td>\n",
       "    </tr>\n",
       "    <tr>\n",
       "      <th>2</th>\n",
       "      <td>Q1</td>\n",
       "      <td>D1-2</td>\n",
       "      <td>0.0</td>\n",
       "    </tr>\n",
       "    <tr>\n",
       "      <th>3</th>\n",
       "      <td>Q1</td>\n",
       "      <td>D1-3</td>\n",
       "      <td>1.0</td>\n",
       "    </tr>\n",
       "    <tr>\n",
       "      <th>4</th>\n",
       "      <td>Q1</td>\n",
       "      <td>D1-4</td>\n",
       "      <td>0.0</td>\n",
       "    </tr>\n",
       "  </tbody>\n",
       "</table>\n",
       "</div>"
      ],
      "text/plain": [
       "  id_left id_right  label\n",
       "0      Q1     D1-0    0.0\n",
       "1      Q1     D1-1    0.0\n",
       "2      Q1     D1-2    0.0\n",
       "3      Q1     D1-3    1.0\n",
       "4      Q1     D1-4    0.0"
      ]
     },
     "execution_count": 7,
     "metadata": {},
     "output_type": "execute_result"
    }
   ],
   "source": [
    "train_raw.relation.head()"
   ]
  },
  {
   "cell_type": "markdown",
   "metadata": {},
   "source": [
    "It is also possible to convert a `DataPack` into a single `pandas.DataFrame` that holds all information."
   ]
  },
  {
   "cell_type": "code",
   "execution_count": 8,
   "metadata": {
    "ExecuteTime": {
     "end_time": "2019-01-28T04:56:42.745051Z",
     "start_time": "2019-01-28T04:56:42.723479Z"
    }
   },
   "outputs": [
    {
     "data": {
      "text/html": [
       "<div>\n",
       "<style scoped>\n",
       "    .dataframe tbody tr th:only-of-type {\n",
       "        vertical-align: middle;\n",
       "    }\n",
       "\n",
       "    .dataframe tbody tr th {\n",
       "        vertical-align: top;\n",
       "    }\n",
       "\n",
       "    .dataframe thead th {\n",
       "        text-align: right;\n",
       "    }\n",
       "</style>\n",
       "<table border=\"1\" class=\"dataframe\">\n",
       "  <thead>\n",
       "    <tr style=\"text-align: right;\">\n",
       "      <th></th>\n",
       "      <th>id_left</th>\n",
       "      <th>text_left</th>\n",
       "      <th>id_right</th>\n",
       "      <th>text_right</th>\n",
       "      <th>label</th>\n",
       "    </tr>\n",
       "  </thead>\n",
       "  <tbody>\n",
       "    <tr>\n",
       "      <th>0</th>\n",
       "      <td>Q1</td>\n",
       "      <td>how are glacier caves formed?</td>\n",
       "      <td>D1-0</td>\n",
       "      <td>A partly submerged glacier cave on Perito More...</td>\n",
       "      <td>0.0</td>\n",
       "    </tr>\n",
       "    <tr>\n",
       "      <th>1</th>\n",
       "      <td>Q1</td>\n",
       "      <td>how are glacier caves formed?</td>\n",
       "      <td>D1-1</td>\n",
       "      <td>The ice facade is approximately 60 m high</td>\n",
       "      <td>0.0</td>\n",
       "    </tr>\n",
       "    <tr>\n",
       "      <th>2</th>\n",
       "      <td>Q1</td>\n",
       "      <td>how are glacier caves formed?</td>\n",
       "      <td>D1-2</td>\n",
       "      <td>Ice formations in the Titlis glacier cave</td>\n",
       "      <td>0.0</td>\n",
       "    </tr>\n",
       "    <tr>\n",
       "      <th>3</th>\n",
       "      <td>Q1</td>\n",
       "      <td>how are glacier caves formed?</td>\n",
       "      <td>D1-3</td>\n",
       "      <td>A glacier cave is a cave formed within the ice...</td>\n",
       "      <td>1.0</td>\n",
       "    </tr>\n",
       "    <tr>\n",
       "      <th>4</th>\n",
       "      <td>Q1</td>\n",
       "      <td>how are glacier caves formed?</td>\n",
       "      <td>D1-4</td>\n",
       "      <td>Glacier caves are often called ice caves , but...</td>\n",
       "      <td>0.0</td>\n",
       "    </tr>\n",
       "  </tbody>\n",
       "</table>\n",
       "</div>"
      ],
      "text/plain": [
       "  id_left                      text_left id_right  \\\n",
       "0      Q1  how are glacier caves formed?     D1-0   \n",
       "1      Q1  how are glacier caves formed?     D1-1   \n",
       "2      Q1  how are glacier caves formed?     D1-2   \n",
       "3      Q1  how are glacier caves formed?     D1-3   \n",
       "4      Q1  how are glacier caves formed?     D1-4   \n",
       "\n",
       "                                          text_right  label  \n",
       "0  A partly submerged glacier cave on Perito More...    0.0  \n",
       "1          The ice facade is approximately 60 m high    0.0  \n",
       "2          Ice formations in the Titlis glacier cave    0.0  \n",
       "3  A glacier cave is a cave formed within the ice...    1.0  \n",
       "4  Glacier caves are often called ice caves , but...    0.0  "
      ]
     },
     "execution_count": 8,
     "metadata": {},
     "output_type": "execute_result"
    }
   ],
   "source": [
    "train_raw.frame().head()"
   ]
  },
  {
   "cell_type": "markdown",
   "metadata": {},
   "source": [
    "However, using such `pandas.DataFrame` consumes much more memory if there are many duplicates in the texts, and that is the exact reason why we use `DataPack`. For more details about data handling, consult `matchzoo/tutorials/data_handling.ipynb`."
   ]
  },
  {
   "cell_type": "markdown",
   "metadata": {},
   "source": [
    "## Preprocessing"
   ]
  },
  {
   "cell_type": "markdown",
   "metadata": {},
   "source": [
    "MatchZoo preprocessors are used to convert a raw `DataPack` into a `DataPack` that ready to be fed into a model. "
   ]
  },
  {
   "cell_type": "code",
   "execution_count": 9,
   "metadata": {
    "ExecuteTime": {
     "end_time": "2019-01-28T04:56:42.750968Z",
     "start_time": "2019-01-28T04:56:42.747697Z"
    },
    "collapsed": true
   },
   "outputs": [],
   "source": [
    "preprocessor = mz.preprocessors.BasicPreprocessor()"
   ]
  },
  {
   "cell_type": "markdown",
   "metadata": {},
   "source": [
    "There are two steps to use a preprocessor. First, `fit`. Then, `transform`. `fit` will only changes the preprocessor's inner state but not the input `DataPack`."
   ]
  },
  {
   "cell_type": "code",
   "execution_count": 10,
   "metadata": {
    "ExecuteTime": {
     "end_time": "2019-01-28T04:56:42.816247Z",
     "start_time": "2019-01-28T04:56:42.752898Z"
    }
   },
   "outputs": [
    {
     "name": "stderr",
     "output_type": "stream",
     "text": [
      "Processing text_left with chain_transform of TokenizeUnit => LowercaseUnit => PuncRemovalUnit: 100%|██████████| 13/13 [00:00<00:00, 887.44it/s]\n",
      "Processing text_right with chain_transform of TokenizeUnit => LowercaseUnit => PuncRemovalUnit: 100%|██████████| 100/100 [00:00<00:00, 4239.45it/s]\n",
      "Processing text_right with append: 100%|██████████| 100/100 [00:00<00:00, 230963.88it/s]\n",
      "Building FrequencyFilterUnit from a datapack.: 100%|██████████| 100/100 [00:00<00:00, 69007.96it/s]\n",
      "Processing text_right with transform: 100%|██████████| 100/100 [00:00<00:00, 107878.19it/s]\n",
      "Processing text_left with extend: 100%|██████████| 13/13 [00:00<00:00, 25890.77it/s]\n",
      "Processing text_right with extend: 100%|██████████| 100/100 [00:00<00:00, 203212.40it/s]\n",
      "Building VocabularyUnit from a datapack.: 100%|██████████| 1665/1665 [00:00<00:00, 2126527.45it/s]\n"
     ]
    },
    {
     "data": {
      "text/plain": [
       "<matchzoo.preprocessors.basic_preprocessor.BasicPreprocessor at 0x12d0850f0>"
      ]
     },
     "execution_count": 10,
     "metadata": {},
     "output_type": "execute_result"
    }
   ],
   "source": [
    "preprocessor.fit(train_raw)"
   ]
  },
  {
   "cell_type": "markdown",
   "metadata": {},
   "source": [
    "`fit` will gather useful information into its `context`, which will be used later in a `transform` or used to set hyper-parameters of a model."
   ]
  },
  {
   "cell_type": "code",
   "execution_count": 11,
   "metadata": {
    "ExecuteTime": {
     "end_time": "2019-01-28T04:56:42.820833Z",
     "start_time": "2019-01-28T04:56:42.817801Z"
    }
   },
   "outputs": [
    {
     "data": {
      "text/plain": [
       "{'filter_unit': <matchzoo.processor_units.processor_units.FrequencyFilterUnit at 0x12d085978>,\n",
       " 'vocab_unit': <matchzoo.processor_units.processor_units.VocabularyUnit at 0x12d2cc9e8>,\n",
       " 'vocab_size': 285,\n",
       " 'embedding_input_dim': 285,\n",
       " 'input_shapes': [(30,), (30,)]}"
      ]
     },
     "execution_count": 11,
     "metadata": {},
     "output_type": "execute_result"
    }
   ],
   "source": [
    "preprocessor.context"
   ]
  },
  {
   "cell_type": "markdown",
   "metadata": {},
   "source": [
    "Once `fit`, the preprocessor has enough information to `transform`.  `transform` will not change the preprocessor's inner state and the input `DataPack`, but return a transformed `DataPack`."
   ]
  },
  {
   "cell_type": "code",
   "execution_count": 12,
   "metadata": {
    "ExecuteTime": {
     "end_time": "2019-01-28T04:56:42.905305Z",
     "start_time": "2019-01-28T04:56:42.822588Z"
    }
   },
   "outputs": [
    {
     "name": "stderr",
     "output_type": "stream",
     "text": [
      "Processing text_left with chain_transform of TokenizeUnit => LowercaseUnit => PuncRemovalUnit: 100%|██████████| 13/13 [00:00<00:00, 4162.92it/s]\n",
      "Processing text_right with chain_transform of TokenizeUnit => LowercaseUnit => PuncRemovalUnit: 100%|██████████| 100/100 [00:00<00:00, 4446.18it/s]\n",
      "Processing text_right with transform: 100%|██████████| 100/100 [00:00<00:00, 67108.86it/s]\n",
      "Processing text_left with transform: 100%|██████████| 13/13 [00:00<00:00, 22606.12it/s]\n",
      "Processing text_right with transform: 100%|██████████| 100/100 [00:00<00:00, 73429.69it/s]\n",
      "Processing length_left with len: 100%|██████████| 13/13 [00:00<00:00, 19005.21it/s]\n",
      "Processing length_right with len: 100%|██████████| 100/100 [00:00<00:00, 117224.82it/s]\n",
      "Processing text_left with transform: 100%|██████████| 13/13 [00:00<00:00, 22420.21it/s]\n",
      "Processing text_right with transform: 100%|██████████| 100/100 [00:00<00:00, 65433.76it/s]\n",
      "Processing text_left with chain_transform of TokenizeUnit => LowercaseUnit => PuncRemovalUnit: 100%|██████████| 3/3 [00:00<00:00, 2686.36it/s]\n",
      "Processing text_right with chain_transform of TokenizeUnit => LowercaseUnit => PuncRemovalUnit: 100%|██████████| 20/20 [00:00<00:00, 5219.07it/s]\n",
      "Processing text_right with transform: 100%|██████████| 20/20 [00:00<00:00, 30716.25it/s]\n",
      "Processing text_left with transform: 100%|██████████| 3/3 [00:00<00:00, 6147.00it/s]\n",
      "Processing text_right with transform: 100%|██████████| 20/20 [00:00<00:00, 31045.92it/s]\n",
      "Processing length_left with len: 100%|██████████| 3/3 [00:00<00:00, 4353.95it/s]\n",
      "Processing length_right with len: 100%|██████████| 20/20 [00:00<00:00, 46192.78it/s]\n",
      "Processing text_left with transform: 100%|██████████| 3/3 [00:00<00:00, 6619.10it/s]\n",
      "Processing text_right with transform: 100%|██████████| 20/20 [00:00<00:00, 37167.07it/s]\n"
     ]
    }
   ],
   "source": [
    "train_processed = preprocessor.transform(train_raw)\n",
    "test_processed = preprocessor.transform(test_raw)"
   ]
  },
  {
   "cell_type": "code",
   "execution_count": 13,
   "metadata": {
    "ExecuteTime": {
     "end_time": "2019-01-28T04:56:42.919312Z",
     "start_time": "2019-01-28T04:56:42.908547Z"
    }
   },
   "outputs": [
    {
     "data": {
      "text/html": [
       "<div>\n",
       "<style scoped>\n",
       "    .dataframe tbody tr th:only-of-type {\n",
       "        vertical-align: middle;\n",
       "    }\n",
       "\n",
       "    .dataframe tbody tr th {\n",
       "        vertical-align: top;\n",
       "    }\n",
       "\n",
       "    .dataframe thead th {\n",
       "        text-align: right;\n",
       "    }\n",
       "</style>\n",
       "<table border=\"1\" class=\"dataframe\">\n",
       "  <thead>\n",
       "    <tr style=\"text-align: right;\">\n",
       "      <th></th>\n",
       "      <th>text_left</th>\n",
       "      <th>length_left</th>\n",
       "    </tr>\n",
       "    <tr>\n",
       "      <th>id_left</th>\n",
       "      <th></th>\n",
       "      <th></th>\n",
       "    </tr>\n",
       "  </thead>\n",
       "  <tbody>\n",
       "    <tr>\n",
       "      <th>Q1</th>\n",
       "      <td>[152, 157, 7, 86, 51, 0, 0, 0, 0, 0, 0, 0, 0, ...</td>\n",
       "      <td>5</td>\n",
       "    </tr>\n",
       "    <tr>\n",
       "      <th>Q2</th>\n",
       "      <td>[152, 157, 42, 144, 153, 42, 257, 195, 275, 26...</td>\n",
       "      <td>15</td>\n",
       "    </tr>\n",
       "    <tr>\n",
       "      <th>Q5</th>\n",
       "      <td>[152, 193, 61, 176, 155, 0, 0, 0, 0, 0, 0, 0, ...</td>\n",
       "      <td>5</td>\n",
       "    </tr>\n",
       "    <tr>\n",
       "      <th>Q6</th>\n",
       "      <td>[152, 12, 49, 42, 112, 88, 261, 111, 0, 0, 0, ...</td>\n",
       "      <td>8</td>\n",
       "    </tr>\n",
       "    <tr>\n",
       "      <th>Q7</th>\n",
       "      <td>[152, 183, 215, 108, 147, 167, 73, 245, 0, 0, ...</td>\n",
       "      <td>8</td>\n",
       "    </tr>\n",
       "  </tbody>\n",
       "</table>\n",
       "</div>"
      ],
      "text/plain": [
       "                                                 text_left  length_left\n",
       "id_left                                                                \n",
       "Q1       [152, 157, 7, 86, 51, 0, 0, 0, 0, 0, 0, 0, 0, ...            5\n",
       "Q2       [152, 157, 42, 144, 153, 42, 257, 195, 275, 26...           15\n",
       "Q5       [152, 193, 61, 176, 155, 0, 0, 0, 0, 0, 0, 0, ...            5\n",
       "Q6       [152, 12, 49, 42, 112, 88, 261, 111, 0, 0, 0, ...            8\n",
       "Q7       [152, 183, 215, 108, 147, 167, 73, 245, 0, 0, ...            8"
      ]
     },
     "execution_count": 13,
     "metadata": {},
     "output_type": "execute_result"
    }
   ],
   "source": [
    "train_processed.left.head()"
   ]
  },
  {
   "cell_type": "markdown",
   "metadata": {},
   "source": [
    "As we can see, `text_left` is already in sequence form that nerual networks love."
   ]
  },
  {
   "cell_type": "markdown",
   "metadata": {},
   "source": [
    "Just to make sure we have the correct sequence:"
   ]
  },
  {
   "cell_type": "code",
   "execution_count": 14,
   "metadata": {
    "ExecuteTime": {
     "end_time": "2019-01-28T04:56:42.927093Z",
     "start_time": "2019-01-28T04:56:42.922323Z"
    }
   },
   "outputs": [
    {
     "name": "stdout",
     "output_type": "stream",
     "text": [
      "Orig Text: [152, 157, 7, 86, 51, 0, 0, 0, 0, 0, 0, 0, 0, 0, 0, 0, 0, 0, 0, 0, 0, 0, 0, 0, 0, 0, 0, 0, 0, 0]\n",
      "Transformed Indices: [152, 157, 7, 86, 51, 0, 0, 0, 0, 0, 0, 0, 0, 0, 0, 0, 0, 0, 0, 0, 0, 0, 0, 0, 0, 0, 0, 0, 0, 0]\n",
      "Transformed Indices Meaning: how_are_glacier_caves_formed_________________________\n"
     ]
    }
   ],
   "source": [
    "vocab_unit = preprocessor.context['vocab_unit']\n",
    "print('Orig Text:', train_processed.left.loc['Q1']['text_left'])\n",
    "sequence = train_processed.left.loc['Q1']['text_left']\n",
    "print('Transformed Indices:', sequence)\n",
    "print('Transformed Indices Meaning:',\n",
    "      '_'.join([vocab_unit.state['index_term'][i] for i in sequence]))"
   ]
  },
  {
   "cell_type": "markdown",
   "metadata": {},
   "source": [
    "For more details about preprocessing, consult `matchzoo/tutorials/data_handling.ipynb`."
   ]
  },
  {
   "cell_type": "markdown",
   "metadata": {},
   "source": [
    "## Build Model"
   ]
  },
  {
   "cell_type": "markdown",
   "metadata": {},
   "source": [
    "MatchZoo provides many built-in text matching models."
   ]
  },
  {
   "cell_type": "code",
   "execution_count": 15,
   "metadata": {
    "ExecuteTime": {
     "end_time": "2019-01-28T04:56:42.932855Z",
     "start_time": "2019-01-28T04:56:42.928918Z"
    }
   },
   "outputs": [
    {
     "data": {
      "text/plain": [
       "[matchzoo.models.naive.Naive,\n",
       " matchzoo.models.dssm.DSSM,\n",
       " matchzoo.models.cdssm.CDSSM,\n",
       " matchzoo.models.dense_baseline.DenseBaseline,\n",
       " matchzoo.models.arci.ArcI,\n",
       " matchzoo.models.arcii.ArcII,\n",
       " matchzoo.models.match_pyramid.MatchPyramid,\n",
       " matchzoo.models.knrm.KNRM,\n",
       " matchzoo.models.duet.DUET,\n",
       " matchzoo.models.drmmtks.DRMMTKS,\n",
       " matchzoo.models.drmm.DRMM,\n",
       " matchzoo.models.anmm.ANMM,\n",
       " matchzoo.models.mvlstm.MVLSTM,\n",
       " matchzoo.contrib.models.match_lstm.MatchLSTM]"
      ]
     },
     "execution_count": 15,
     "metadata": {},
     "output_type": "execute_result"
    }
   ],
   "source": [
    "mz.models.list_available()"
   ]
  },
  {
   "cell_type": "markdown",
   "metadata": {},
   "source": [
    "Let's use `mz.models.DenseBaseline` for our demo."
   ]
  },
  {
   "cell_type": "code",
   "execution_count": 16,
   "metadata": {
    "ExecuteTime": {
     "end_time": "2019-01-28T04:56:42.936593Z",
     "start_time": "2019-01-28T04:56:42.934144Z"
    },
    "collapsed": true
   },
   "outputs": [],
   "source": [
    "model = mz.models.DenseBaseline()"
   ]
  },
  {
   "cell_type": "markdown",
   "metadata": {},
   "source": [
    "The model is initialized with a hyper parameter table, in which values are partially filled. To view parameters and their values, use `print`."
   ]
  },
  {
   "cell_type": "code",
   "execution_count": 17,
   "metadata": {
    "ExecuteTime": {
     "end_time": "2019-01-28T04:56:42.941706Z",
     "start_time": "2019-01-28T04:56:42.938445Z"
    }
   },
   "outputs": [
    {
     "name": "stdout",
     "output_type": "stream",
     "text": [
      "model_class                   <class 'matchzoo.models.dense_baseline.DenseBaseline'>\n",
      "input_shapes                  None\n",
      "task                          None\n",
      "optimizer                     adam\n",
      "with_multi_layer_perceptron   True\n",
      "mlp_num_units                 256\n",
      "mlp_num_layers                3\n",
      "mlp_num_fan_out               64\n",
      "mlp_activation_func           relu\n"
     ]
    }
   ],
   "source": [
    "print(model.params)"
   ]
  },
  {
   "cell_type": "markdown",
   "metadata": {},
   "source": [
    "`to_frame` gives you more informartion in addition to just names and values."
   ]
  },
  {
   "cell_type": "code",
   "execution_count": 18,
   "metadata": {
    "ExecuteTime": {
     "end_time": "2019-01-28T04:56:42.965758Z",
     "start_time": "2019-01-28T04:56:42.954935Z"
    }
   },
   "outputs": [
    {
     "data": {
      "text/html": [
       "<div>\n",
       "<style scoped>\n",
       "    .dataframe tbody tr th:only-of-type {\n",
       "        vertical-align: middle;\n",
       "    }\n",
       "\n",
       "    .dataframe tbody tr th {\n",
       "        vertical-align: top;\n",
       "    }\n",
       "\n",
       "    .dataframe thead th {\n",
       "        text-align: right;\n",
       "    }\n",
       "</style>\n",
       "<table border=\"1\" class=\"dataframe\">\n",
       "  <thead>\n",
       "    <tr style=\"text-align: right;\">\n",
       "      <th></th>\n",
       "      <th>Name</th>\n",
       "      <th>Description</th>\n",
       "      <th>Value</th>\n",
       "    </tr>\n",
       "  </thead>\n",
       "  <tbody>\n",
       "    <tr>\n",
       "      <th>0</th>\n",
       "      <td>model_class</td>\n",
       "      <td>Model class. Used internally for save/load. Ch...</td>\n",
       "      <td>&lt;class 'matchzoo.models.dense_baseline.DenseBa...</td>\n",
       "    </tr>\n",
       "    <tr>\n",
       "      <th>1</th>\n",
       "      <td>input_shapes</td>\n",
       "      <td>Dependent on the model and data. Should be set...</td>\n",
       "      <td>None</td>\n",
       "    </tr>\n",
       "    <tr>\n",
       "      <th>2</th>\n",
       "      <td>task</td>\n",
       "      <td>Decides model output shape, loss, and metrics.</td>\n",
       "      <td>None</td>\n",
       "    </tr>\n",
       "    <tr>\n",
       "      <th>3</th>\n",
       "      <td>optimizer</td>\n",
       "      <td>None</td>\n",
       "      <td>adam</td>\n",
       "    </tr>\n",
       "    <tr>\n",
       "      <th>4</th>\n",
       "      <td>with_multi_layer_perceptron</td>\n",
       "      <td>A flag of whether a multiple layer perceptron ...</td>\n",
       "      <td>True</td>\n",
       "    </tr>\n",
       "    <tr>\n",
       "      <th>5</th>\n",
       "      <td>mlp_num_units</td>\n",
       "      <td>Number of units in first `mlp_num_layers` layers.</td>\n",
       "      <td>256</td>\n",
       "    </tr>\n",
       "    <tr>\n",
       "      <th>6</th>\n",
       "      <td>mlp_num_layers</td>\n",
       "      <td>Number of layers of the multiple layer percetron.</td>\n",
       "      <td>3</td>\n",
       "    </tr>\n",
       "    <tr>\n",
       "      <th>7</th>\n",
       "      <td>mlp_num_fan_out</td>\n",
       "      <td>Number of units of the layer that connects the...</td>\n",
       "      <td>64</td>\n",
       "    </tr>\n",
       "    <tr>\n",
       "      <th>8</th>\n",
       "      <td>mlp_activation_func</td>\n",
       "      <td>Activation function used in the multiple layer...</td>\n",
       "      <td>relu</td>\n",
       "    </tr>\n",
       "  </tbody>\n",
       "</table>\n",
       "</div>"
      ],
      "text/plain": [
       "                          Name  \\\n",
       "0                  model_class   \n",
       "1                 input_shapes   \n",
       "2                         task   \n",
       "3                    optimizer   \n",
       "4  with_multi_layer_perceptron   \n",
       "5                mlp_num_units   \n",
       "6               mlp_num_layers   \n",
       "7              mlp_num_fan_out   \n",
       "8          mlp_activation_func   \n",
       "\n",
       "                                         Description  \\\n",
       "0  Model class. Used internally for save/load. Ch...   \n",
       "1  Dependent on the model and data. Should be set...   \n",
       "2     Decides model output shape, loss, and metrics.   \n",
       "3                                               None   \n",
       "4  A flag of whether a multiple layer perceptron ...   \n",
       "5  Number of units in first `mlp_num_layers` layers.   \n",
       "6  Number of layers of the multiple layer percetron.   \n",
       "7  Number of units of the layer that connects the...   \n",
       "8  Activation function used in the multiple layer...   \n",
       "\n",
       "                                               Value  \n",
       "0  <class 'matchzoo.models.dense_baseline.DenseBa...  \n",
       "1                                               None  \n",
       "2                                               None  \n",
       "3                                               adam  \n",
       "4                                               True  \n",
       "5                                                256  \n",
       "6                                                  3  \n",
       "7                                                 64  \n",
       "8                                               relu  "
      ]
     },
     "execution_count": 18,
     "metadata": {},
     "output_type": "execute_result"
    }
   ],
   "source": [
    "model.params.to_frame()[['Name', 'Description', 'Value']]"
   ]
  },
  {
   "cell_type": "markdown",
   "metadata": {},
   "source": [
    "To set a hyper-parameter:"
   ]
  },
  {
   "cell_type": "code",
   "execution_count": 19,
   "metadata": {
    "ExecuteTime": {
     "end_time": "2019-01-28T04:56:42.976633Z",
     "start_time": "2019-01-28T04:56:42.973368Z"
    }
   },
   "outputs": [
    {
     "name": "stdout",
     "output_type": "stream",
     "text": [
      "model_class                   <class 'matchzoo.models.dense_baseline.DenseBaseline'>\n",
      "input_shapes                  None\n",
      "task                          Ranking Task\n",
      "optimizer                     adam\n",
      "with_multi_layer_perceptron   True\n",
      "mlp_num_units                 3\n",
      "mlp_num_layers                3\n",
      "mlp_num_fan_out               64\n",
      "mlp_activation_func           relu\n"
     ]
    }
   ],
   "source": [
    "model.params['task'] = task\n",
    "model.params['mlp_num_units'] = 3\n",
    "print(model.params)"
   ]
  },
  {
   "cell_type": "markdown",
   "metadata": {},
   "source": [
    "Notice that we are still missing `input_shapes`, and that information is store in the preprocessor."
   ]
  },
  {
   "cell_type": "code",
   "execution_count": 20,
   "metadata": {
    "ExecuteTime": {
     "end_time": "2019-01-28T04:56:42.981003Z",
     "start_time": "2019-01-28T04:56:42.978111Z"
    }
   },
   "outputs": [
    {
     "name": "stdout",
     "output_type": "stream",
     "text": [
      "[(30,), (30,)]\n"
     ]
    }
   ],
   "source": [
    "print(preprocessor.context['input_shapes'])"
   ]
  },
  {
   "cell_type": "markdown",
   "metadata": {},
   "source": [
    "We may use `update` to load a preprocessor's context into a model's hyper-parameter table."
   ]
  },
  {
   "cell_type": "code",
   "execution_count": 21,
   "metadata": {
    "ExecuteTime": {
     "end_time": "2019-01-28T04:56:42.984930Z",
     "start_time": "2019-01-28T04:56:42.982388Z"
    },
    "collapsed": true
   },
   "outputs": [],
   "source": [
    "model.params.update(preprocessor.context)"
   ]
  },
  {
   "cell_type": "markdown",
   "metadata": {},
   "source": [
    "Now we have a completed hyper-parameter table."
   ]
  },
  {
   "cell_type": "code",
   "execution_count": 22,
   "metadata": {
    "ExecuteTime": {
     "end_time": "2019-01-28T04:56:42.990743Z",
     "start_time": "2019-01-28T04:56:42.986642Z"
    }
   },
   "outputs": [
    {
     "data": {
      "text/plain": [
       "True"
      ]
     },
     "execution_count": 22,
     "metadata": {},
     "output_type": "execute_result"
    }
   ],
   "source": [
    "model.params.completed()"
   ]
  },
  {
   "cell_type": "markdown",
   "metadata": {},
   "source": [
    "With all parameters filled in, we can now build and compile the model."
   ]
  },
  {
   "cell_type": "code",
   "execution_count": 23,
   "metadata": {
    "ExecuteTime": {
     "end_time": "2019-01-28T04:56:43.080104Z",
     "start_time": "2019-01-28T04:56:42.992243Z"
    },
    "collapsed": true
   },
   "outputs": [],
   "source": [
    "model.build()\n",
    "model.compile()"
   ]
  },
  {
   "cell_type": "markdown",
   "metadata": {},
   "source": [
    "MatchZoo models are wrapped over keras models, and the `backend` property of a model gives you the actual keras model built."
   ]
  },
  {
   "cell_type": "code",
   "execution_count": 24,
   "metadata": {
    "ExecuteTime": {
     "end_time": "2019-01-28T04:56:43.086585Z",
     "start_time": "2019-01-28T04:56:43.081688Z"
    }
   },
   "outputs": [
    {
     "name": "stdout",
     "output_type": "stream",
     "text": [
      "__________________________________________________________________________________________________\n",
      "Layer (type)                    Output Shape         Param #     Connected to                     \n",
      "==================================================================================================\n",
      "text_left (InputLayer)          (None, 30)           0                                            \n",
      "__________________________________________________________________________________________________\n",
      "text_right (InputLayer)         (None, 30)           0                                            \n",
      "__________________________________________________________________________________________________\n",
      "concatenate_1 (Concatenate)     (None, 60)           0           text_left[0][0]                  \n",
      "                                                                 text_right[0][0]                 \n",
      "__________________________________________________________________________________________________\n",
      "dense_1 (Dense)                 (None, 3)            183         concatenate_1[0][0]              \n",
      "__________________________________________________________________________________________________\n",
      "dense_2 (Dense)                 (None, 3)            12          dense_1[0][0]                    \n",
      "__________________________________________________________________________________________________\n",
      "dense_3 (Dense)                 (None, 3)            12          dense_2[0][0]                    \n",
      "__________________________________________________________________________________________________\n",
      "dense_4 (Dense)                 (None, 64)           256         dense_3[0][0]                    \n",
      "__________________________________________________________________________________________________\n",
      "dense_5 (Dense)                 (None, 1)            65          dense_4[0][0]                    \n",
      "==================================================================================================\n",
      "Total params: 528\n",
      "Trainable params: 528\n",
      "Non-trainable params: 0\n",
      "__________________________________________________________________________________________________\n"
     ]
    }
   ],
   "source": [
    "model.backend.summary()"
   ]
  },
  {
   "cell_type": "markdown",
   "metadata": {
    "ExecuteTime": {
     "end_time": "2018-12-10T13:28:54.044570Z",
     "start_time": "2018-12-10T13:28:54.038325Z"
    }
   },
   "source": [
    "For more details about models, consult `matchzoo/tutorials/models.ipynb`."
   ]
  },
  {
   "cell_type": "markdown",
   "metadata": {},
   "source": [
    "## Train, Evaluate, Predict"
   ]
  },
  {
   "cell_type": "markdown",
   "metadata": {},
   "source": [
    "A `DataPack` can `unpack` itself into data that can be directly used to train a MatchZoo model."
   ]
  },
  {
   "cell_type": "code",
   "execution_count": 25,
   "metadata": {
    "ExecuteTime": {
     "end_time": "2019-01-28T04:56:43.115636Z",
     "start_time": "2019-01-28T04:56:43.087900Z"
    },
    "collapsed": true
   },
   "outputs": [],
   "source": [
    "x, y = train_processed.unpack()\n",
    "test_x, test_y = test_processed.unpack()"
   ]
  },
  {
   "cell_type": "code",
   "execution_count": 26,
   "metadata": {
    "ExecuteTime": {
     "end_time": "2019-01-28T04:56:43.770023Z",
     "start_time": "2019-01-28T04:56:43.117248Z"
    }
   },
   "outputs": [
    {
     "name": "stdout",
     "output_type": "stream",
     "text": [
      "Epoch 1/5\n",
      "100/100 [==============================] - 0s 3ms/step - loss: 76.6259\n",
      "Epoch 2/5\n",
      "100/100 [==============================] - 0s 66us/step - loss: 38.0670\n",
      "Epoch 3/5\n",
      "100/100 [==============================] - 0s 77us/step - loss: 16.3323\n",
      "Epoch 4/5\n",
      "100/100 [==============================] - 0s 63us/step - loss: 6.5714\n",
      "Epoch 5/5\n",
      "100/100 [==============================] - 0s 71us/step - loss: 2.7183\n"
     ]
    },
    {
     "data": {
      "text/plain": [
       "<keras.callbacks.History at 0x12d2bae48>"
      ]
     },
     "execution_count": 26,
     "metadata": {},
     "output_type": "execute_result"
    }
   ],
   "source": [
    "model.fit(x, y, batch_size=32, epochs=5)"
   ]
  },
  {
   "cell_type": "markdown",
   "metadata": {},
   "source": [
    "An alternative to train a model is to use a `DataGenerator`. This is useful for delaying expensive preprocessing steps or doing real-time data augmentation. For some models that needs dynamic batch-wise information, using a `DataGenerator` is required. For more details about `DataGenerator`, consult `matchzoo/tutorials/data_handling.ipynb`."
   ]
  },
  {
   "cell_type": "code",
   "execution_count": 27,
   "metadata": {
    "ExecuteTime": {
     "end_time": "2019-01-28T04:56:43.775814Z",
     "start_time": "2019-01-28T04:56:43.772048Z"
    }
   },
   "outputs": [],
   "source": [
    "data_generator = mz.DataGenerator(train_processed, batch_size=32)"
   ]
  },
  {
   "cell_type": "code",
   "execution_count": 28,
   "metadata": {
    "ExecuteTime": {
     "end_time": "2019-01-28T04:56:44.447193Z",
     "start_time": "2019-01-28T04:56:43.777513Z"
    }
   },
   "outputs": [
    {
     "name": "stdout",
     "output_type": "stream",
     "text": [
      "Epoch 1/5\n",
      "4/4 [==============================] - 0s 19ms/step - loss: 0.6111\n",
      "Epoch 2/5\n",
      "4/4 [==============================] - 0s 28ms/step - loss: 0.2031\n",
      "Epoch 3/5\n",
      "4/4 [==============================] - 0s 32ms/step - loss: 0.0566\n",
      "Epoch 4/5\n",
      "4/4 [==============================] - 0s 30ms/step - loss: 0.1580\n",
      "Epoch 5/5\n",
      "4/4 [==============================] - 0s 35ms/step - loss: 0.1418\n"
     ]
    },
    {
     "data": {
      "text/plain": [
       "<keras.callbacks.History at 0x12d6f0e48>"
      ]
     },
     "execution_count": 28,
     "metadata": {},
     "output_type": "execute_result"
    }
   ],
   "source": [
    "model.fit_generator(data_generator, epochs=5, use_multiprocessing=True, workers=4)"
   ]
  },
  {
   "cell_type": "code",
   "execution_count": 29,
   "metadata": {
    "ExecuteTime": {
     "end_time": "2019-01-28T04:56:44.494321Z",
     "start_time": "2019-01-28T04:56:44.449851Z"
    }
   },
   "outputs": [
    {
     "data": {
      "text/plain": [
       "{mean_average_precision(0.0): 0.037037037037037035}"
      ]
     },
     "execution_count": 29,
     "metadata": {},
     "output_type": "execute_result"
    }
   ],
   "source": [
    "model.evaluate(test_x, test_y)"
   ]
  },
  {
   "cell_type": "code",
   "execution_count": 30,
   "metadata": {
    "ExecuteTime": {
     "end_time": "2019-01-28T04:56:44.500808Z",
     "start_time": "2019-01-28T04:56:44.496132Z"
    }
   },
   "outputs": [
    {
     "data": {
      "text/plain": [
       "array([[-0.05505364],\n",
       "       [-0.05505364],\n",
       "       [-0.74016404],\n",
       "       [-0.32844803],\n",
       "       [-0.05505364],\n",
       "       [-0.05505364],\n",
       "       [-0.05505364],\n",
       "       [-0.05505364],\n",
       "       [-0.18103671],\n",
       "       [-0.05505364],\n",
       "       [-0.05505364],\n",
       "       [-0.05505364],\n",
       "       [-0.13401566],\n",
       "       [-0.05505364],\n",
       "       [-0.05505364],\n",
       "       [-0.6933212 ],\n",
       "       [-0.14404102],\n",
       "       [-0.7520623 ],\n",
       "       [-0.82780886],\n",
       "       [-0.22631875]], dtype=float32)"
      ]
     },
     "execution_count": 30,
     "metadata": {},
     "output_type": "execute_result"
    }
   ],
   "source": [
    "model.predict(test_x)"
   ]
  },
  {
   "cell_type": "markdown",
   "metadata": {
    "ExecuteTime": {
     "end_time": "2019-01-27T15:38:33.485790Z",
     "start_time": "2019-01-27T15:38:33.483430Z"
    }
   },
   "source": [
    "## A Shortcut to Preprocessing and Model Building"
   ]
  },
  {
   "cell_type": "markdown",
   "metadata": {},
   "source": [
    "Since data preprocessing and model building are laborious and special setups of some models makes this even worse, MatchZoo provides `prepare`, a unified interface that handles interaction among data, model, and preprocessor automatically.\n",
    "\n",
    "More specifically, `prepare` does these following things:\n",
    " - create a default preprocessor of the model class (if not given one)\n",
    " - fit the preprocessor using the raw data\n",
    " - create an embedding matrix\n",
    " - instantiate a model and fill in hype-parameters\n",
    " - build the model\n",
    " - instantiate a `DataGeneratorBuilder` that will build a correctly formed `DataGenerator` given a `DataPack`\n",
    " \n",
    "It also does many special handling for specific models, but we will not go into the details of that here."
   ]
  },
  {
   "cell_type": "code",
   "execution_count": 31,
   "metadata": {
    "ExecuteTime": {
     "end_time": "2019-01-28T04:57:34.243316Z",
     "start_time": "2019-01-28T04:56:44.502285Z"
    }
   },
   "outputs": [
    {
     "name": "stdout",
     "output_type": "stream",
     "text": [
      "<class 'matchzoo.models.naive.Naive'>\n",
      "Epoch 1/1\n",
      "1/1 [==============================] - 0s 138ms/step - loss: 53812.7305\n",
      "\n",
      "<class 'matchzoo.models.dssm.DSSM'>\n",
      "Epoch 1/1\n",
      "1/1 [==============================] - 1s 534ms/step - loss: 0.1385\n",
      "\n",
      "<class 'matchzoo.models.cdssm.CDSSM'>\n",
      "Epoch 1/1\n",
      "1/1 [==============================] - 2s 2s/step - loss: 0.0980\n",
      "\n",
      "<class 'matchzoo.models.dense_baseline.DenseBaseline'>\n",
      "Epoch 1/1\n",
      "1/1 [==============================] - 0s 429ms/step - loss: 894.1340\n",
      "\n",
      "<class 'matchzoo.models.arci.ArcI'>\n",
      "Epoch 1/1\n",
      "1/1 [==============================] - 1s 619ms/step - loss: 0.0550\n",
      "\n",
      "<class 'matchzoo.models.arcii.ArcII'>\n",
      "Epoch 1/1\n",
      "1/1 [==============================] - 1s 722ms/step - loss: 0.0759\n",
      "\n",
      "<class 'matchzoo.models.match_pyramid.MatchPyramid'>\n",
      "Epoch 1/1\n",
      "1/1 [==============================] - 1s 533ms/step - loss: 0.0610\n",
      "\n",
      "<class 'matchzoo.models.knrm.KNRM'>\n",
      "Epoch 1/1\n",
      "1/1 [==============================] - 1s 942ms/step - loss: 1074.5272\n",
      "\n",
      "<class 'matchzoo.models.duet.DUET'>\n",
      "Epoch 1/1\n",
      "1/1 [==============================] - 1s 1s/step - loss: 0.1698\n",
      "\n",
      "<class 'matchzoo.models.drmmtks.DRMMTKS'>\n",
      "Epoch 1/1\n",
      "1/1 [==============================] - 1s 979ms/step - loss: 0.0775\n",
      "\n",
      "<class 'matchzoo.models.drmm.DRMM'>\n",
      "Epoch 1/1\n",
      "1/1 [==============================] - 1s 1s/step - loss: 0.0554\n",
      "\n",
      "<class 'matchzoo.models.anmm.ANMM'>\n",
      "Epoch 1/1\n",
      "1/1 [==============================] - 1s 917ms/step - loss: 0.0487\n",
      "\n",
      "<class 'matchzoo.models.mvlstm.MVLSTM'>\n",
      "Epoch 1/1\n",
      "1/1 [==============================] - 4s 4s/step - loss: 0.0492\n",
      "\n",
      "<class 'matchzoo.contrib.models.match_lstm.MatchLSTM'>\n",
      "Epoch 1/1\n",
      "1/1 [==============================] - 6s 6s/step - loss: 0.0487\n",
      "\n"
     ]
    }
   ],
   "source": [
    "for model_class in mz.models.list_available():\n",
    "    print(model_class)\n",
    "    model, preprocessor, data_generator_builder, embedding_matrix = mz.prepare(\n",
    "        task=task,\n",
    "        model_class=model_class,\n",
    "        data_pack=train_raw,\n",
    "    )\n",
    "    train_processed = preprocessor.transform(train_raw, verbose=0)\n",
    "    test_processed = preprocessor.transform(test_raw, verbose=0)\n",
    "    train_gen = data_generator_builder.build(train_processed)\n",
    "    test_gen = data_generator_builder.build(test_processed)\n",
    "    model.fit_generator(train_gen, epochs=1)\n",
    "    model.evaluate_generator(test_gen)\n",
    "    print()"
   ]
  },
  {
   "cell_type": "markdown",
   "metadata": {},
   "source": [
    "## Save and Load the Model"
   ]
  },
  {
   "cell_type": "code",
   "execution_count": 32,
   "metadata": {
    "ExecuteTime": {
     "end_time": "2019-01-28T04:57:40.371035Z",
     "start_time": "2019-01-28T04:57:34.245269Z"
    },
    "collapsed": true
   },
   "outputs": [],
   "source": [
    "model.save('my-model')\n",
    "loaded_model = mz.load_model('my-model')"
   ]
  }
 ],
 "metadata": {
  "hide_input": false,
  "kernelspec": {
   "display_name": "matchzoo",
   "language": "python",
   "name": "matchzoo"
  },
  "language_info": {
   "codemirror_mode": {
    "name": "ipython",
    "version": 3
   },
   "file_extension": ".py",
   "mimetype": "text/x-python",
   "name": "python",
   "nbconvert_exporter": "python",
   "pygments_lexer": "ipython3",
   "version": "3.6.3"
  },
  "toc": {
   "nav_menu": {},
   "number_sections": true,
   "sideBar": true,
   "skip_h1_title": false,
   "toc_cell": false,
   "toc_position": {},
   "toc_section_display": "block",
   "toc_window_display": true
  },
  "varInspector": {
   "cols": {
    "lenName": 16,
    "lenType": 16,
    "lenVar": 40
   },
   "kernels_config": {
    "python": {
     "delete_cmd_postfix": "",
     "delete_cmd_prefix": "del ",
     "library": "var_list.py",
     "varRefreshCmd": "print(var_dic_list())"
    },
    "r": {
     "delete_cmd_postfix": ") ",
     "delete_cmd_prefix": "rm(",
     "library": "var_list.r",
     "varRefreshCmd": "cat(var_dic_list()) "
    }
   },
   "types_to_exclude": [
    "module",
    "function",
    "builtin_function_or_method",
    "instance",
    "_Feature"
   ],
   "window_display": false
  }
 },
 "nbformat": 4,
 "nbformat_minor": 2
}
