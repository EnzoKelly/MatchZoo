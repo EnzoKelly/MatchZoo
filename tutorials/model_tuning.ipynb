{
 "cells": [
  {
   "cell_type": "markdown",
   "metadata": {},
   "source": [
    "# Model Tuning"
   ]
  },
  {
   "cell_type": "code",
   "execution_count": 3,
   "metadata": {
    "ExecuteTime": {
     "end_time": "2019-01-26T08:50:47.981424Z",
     "start_time": "2019-01-26T08:50:47.959835Z"
    },
    "collapsed": true
   },
   "outputs": [],
   "source": [
    "import matchzoo as mz\n",
    "train_raw = mz.datasets.toy.load_data('train')\n",
    "dev_raw = mz.datasets.toy.load_data('dev')\n",
    "test_raw = mz.datasets.toy.load_data('test')"
   ]
  },
  {
   "cell_type": "markdown",
   "metadata": {
    "ExecuteTime": {
     "end_time": "2019-01-14T03:48:22.915655Z",
     "start_time": "2019-01-14T03:48:22.879130Z"
    }
   },
   "source": [
    "## basic Usage"
   ]
  },
  {
   "cell_type": "markdown",
   "metadata": {},
   "source": [
    "A couple things are needed by the tuner:\n",
    " - a model with a parameters filled\n",
    " - preprocessed training data\n",
    " - preprocessed testing data\n",
    " \n",
    "Since MatchZoo models have pre-defined hyper-spaces, the tuner can start tuning right away once you have the data ready."
   ]
  },
  {
   "cell_type": "markdown",
   "metadata": {},
   "source": [
    "### prepare the data"
   ]
  },
  {
   "cell_type": "code",
   "execution_count": 4,
   "metadata": {
    "ExecuteTime": {
     "end_time": "2019-01-26T08:51:00.417814Z",
     "start_time": "2019-01-26T08:51:00.343652Z"
    },
    "collapsed": true
   },
   "outputs": [],
   "source": [
    "preprocessor = mz.models.DenseBaseline.get_default_preprocessor()\n",
    "train = preprocessor.fit_transform(train_raw, verbose=0)\n",
    "dev = preprocessor.transform(dev_raw, verbose=0)\n",
    "test = preprocessor.transform(test_raw, verbose=0)"
   ]
  },
  {
   "cell_type": "markdown",
   "metadata": {
    "ExecuteTime": {
     "end_time": "2019-01-14T10:33:22.859605Z",
     "start_time": "2019-01-14T10:33:22.857225Z"
    }
   },
   "source": [
    "### prepare the model"
   ]
  },
  {
   "cell_type": "code",
   "execution_count": 6,
   "metadata": {
    "ExecuteTime": {
     "end_time": "2019-01-26T08:51:09.185267Z",
     "start_time": "2019-01-26T08:51:09.181614Z"
    },
    "collapsed": true
   },
   "outputs": [],
   "source": [
    "model = mz.models.DenseBaseline()\n",
    "model.params['input_shapes'] = preprocessor.context['input_shapes']\n",
    "model.params['task'] = mz.tasks.Ranking()"
   ]
  },
  {
   "cell_type": "markdown",
   "metadata": {
    "ExecuteTime": {
     "end_time": "2019-01-14T10:33:44.646987Z",
     "start_time": "2019-01-14T10:33:44.644671Z"
    }
   },
   "source": [
    "### start tuning"
   ]
  },
  {
   "cell_type": "code",
   "execution_count": 7,
   "metadata": {
    "ExecuteTime": {
     "end_time": "2019-01-26T08:51:39.471919Z",
     "start_time": "2019-01-26T08:51:35.205044Z"
    }
   },
   "outputs": [
    {
     "name": "stdout",
     "output_type": "stream",
     "text": [
      "Run #1\n",
      "Score: 0.07142857142857142\n",
      "model_class                   <class 'matchzoo.models.dense_baseline.DenseBaseline'>\n",
      "input_shapes                  [(30,), (30,)]\n",
      "task                          Ranking Task\n",
      "optimizer                     adam\n",
      "with_multi_layer_perceptron   True\n",
      "mlp_num_units                 165\n",
      "mlp_num_layers                4\n",
      "mlp_num_fan_out               52\n",
      "mlp_activation_func           relu\n",
      "\n",
      "Run #2\n",
      "Score: 0.0625\n",
      "model_class                   <class 'matchzoo.models.dense_baseline.DenseBaseline'>\n",
      "input_shapes                  [(30,), (30,)]\n",
      "task                          Ranking Task\n",
      "optimizer                     adam\n",
      "with_multi_layer_perceptron   True\n",
      "mlp_num_units                 186\n",
      "mlp_num_layers                3\n",
      "mlp_num_fan_out               84\n",
      "mlp_activation_func           relu\n",
      "\n",
      "Run #3\n",
      "Score: 0.07142857142857142\n",
      "model_class                   <class 'matchzoo.models.dense_baseline.DenseBaseline'>\n",
      "input_shapes                  [(30,), (30,)]\n",
      "task                          Ranking Task\n",
      "optimizer                     adam\n",
      "with_multi_layer_perceptron   True\n",
      "mlp_num_units                 322\n",
      "mlp_num_layers                2\n",
      "mlp_num_fan_out               116\n",
      "mlp_activation_func           relu\n",
      "\n",
      "Run #4\n",
      "Score: 0.08333333333333333\n",
      "model_class                   <class 'matchzoo.models.dense_baseline.DenseBaseline'>\n",
      "input_shapes                  [(30,), (30,)]\n",
      "task                          Ranking Task\n",
      "optimizer                     adam\n",
      "with_multi_layer_perceptron   True\n",
      "mlp_num_units                 170\n",
      "mlp_num_layers                3\n",
      "mlp_num_fan_out               96\n",
      "mlp_activation_func           relu\n",
      "\n",
      "Run #5\n",
      "Score: 0.1\n",
      "model_class                   <class 'matchzoo.models.dense_baseline.DenseBaseline'>\n",
      "input_shapes                  [(30,), (30,)]\n",
      "task                          Ranking Task\n",
      "optimizer                     adam\n",
      "with_multi_layer_perceptron   True\n",
      "mlp_num_units                 455\n",
      "mlp_num_layers                2\n",
      "mlp_num_fan_out               60\n",
      "mlp_activation_func           relu\n",
      "\n"
     ]
    }
   ],
   "source": [
    "results = mz.tune.tune(\n",
    "    params=model.params,\n",
    "    train_data=train,\n",
    "    test_data=dev,\n",
    "    num_runs=5\n",
    ")"
   ]
  },
  {
   "cell_type": "markdown",
   "metadata": {},
   "source": [
    "### view the best hyper-parameter set"
   ]
  },
  {
   "cell_type": "code",
   "execution_count": 9,
   "metadata": {
    "ExecuteTime": {
     "end_time": "2019-01-26T08:52:11.129688Z",
     "start_time": "2019-01-26T08:52:11.121609Z"
    }
   },
   "outputs": [
    {
     "data": {
      "text/plain": [
       "{'#': 5,\n",
       " 'params': <matchzoo.engine.param_table.ParamTable at 0x138943d68>,\n",
       " 'sample': {'mlp_num_fan_out': 60.0,\n",
       "  'mlp_num_layers': 2.0,\n",
       "  'mlp_num_units': 455.0},\n",
       " 'score': 0.1}"
      ]
     },
     "execution_count": 9,
     "metadata": {},
     "output_type": "execute_result"
    }
   ],
   "source": [
    "results['best']"
   ]
  },
  {
   "cell_type": "code",
   "execution_count": 14,
   "metadata": {
    "ExecuteTime": {
     "end_time": "2019-01-26T08:52:45.425716Z",
     "start_time": "2019-01-26T08:52:45.410565Z"
    }
   },
   "outputs": [
    {
     "data": {
      "text/html": [
       "<div>\n",
       "<style scoped>\n",
       "    .dataframe tbody tr th:only-of-type {\n",
       "        vertical-align: middle;\n",
       "    }\n",
       "\n",
       "    .dataframe tbody tr th {\n",
       "        vertical-align: top;\n",
       "    }\n",
       "\n",
       "    .dataframe thead th {\n",
       "        text-align: right;\n",
       "    }\n",
       "</style>\n",
       "<table border=\"1\" class=\"dataframe\">\n",
       "  <thead>\n",
       "    <tr style=\"text-align: right;\">\n",
       "      <th></th>\n",
       "      <th>Name</th>\n",
       "      <th>Description</th>\n",
       "      <th>Value</th>\n",
       "      <th>Hyper-Space</th>\n",
       "    </tr>\n",
       "  </thead>\n",
       "  <tbody>\n",
       "    <tr>\n",
       "      <th>0</th>\n",
       "      <td>model_class</td>\n",
       "      <td>Model class. Used internally for save/load. Ch...</td>\n",
       "      <td>&lt;class 'matchzoo.models.dense_baseline.DenseBa...</td>\n",
       "      <td>None</td>\n",
       "    </tr>\n",
       "    <tr>\n",
       "      <th>1</th>\n",
       "      <td>input_shapes</td>\n",
       "      <td>Dependent on the model and data. Should be set...</td>\n",
       "      <td>[(30,), (30,)]</td>\n",
       "      <td>None</td>\n",
       "    </tr>\n",
       "    <tr>\n",
       "      <th>2</th>\n",
       "      <td>task</td>\n",
       "      <td>Decides model output shape, loss, and metrics.</td>\n",
       "      <td>Ranking Task</td>\n",
       "      <td>None</td>\n",
       "    </tr>\n",
       "    <tr>\n",
       "      <th>3</th>\n",
       "      <td>optimizer</td>\n",
       "      <td>None</td>\n",
       "      <td>adam</td>\n",
       "      <td>None</td>\n",
       "    </tr>\n",
       "    <tr>\n",
       "      <th>4</th>\n",
       "      <td>with_multi_layer_perceptron</td>\n",
       "      <td>A flag of whether a multiple layer perceptron ...</td>\n",
       "      <td>True</td>\n",
       "      <td>None</td>\n",
       "    </tr>\n",
       "    <tr>\n",
       "      <th>5</th>\n",
       "      <td>mlp_num_units</td>\n",
       "      <td>Number of units in first `mlp_num_layers` layers.</td>\n",
       "      <td>455</td>\n",
       "      <td>quantitative uniform distribution in  [16, 512...</td>\n",
       "    </tr>\n",
       "    <tr>\n",
       "      <th>6</th>\n",
       "      <td>mlp_num_layers</td>\n",
       "      <td>Number of layers of the multiple layer percetron.</td>\n",
       "      <td>2</td>\n",
       "      <td>quantitative uniform distribution in  [1, 5), ...</td>\n",
       "    </tr>\n",
       "    <tr>\n",
       "      <th>7</th>\n",
       "      <td>mlp_num_fan_out</td>\n",
       "      <td>Number of units of the layer that connects the...</td>\n",
       "      <td>60</td>\n",
       "      <td>quantitative uniform distribution in  [4, 128)...</td>\n",
       "    </tr>\n",
       "    <tr>\n",
       "      <th>8</th>\n",
       "      <td>mlp_activation_func</td>\n",
       "      <td>Activation function used in the multiple layer...</td>\n",
       "      <td>relu</td>\n",
       "      <td>None</td>\n",
       "    </tr>\n",
       "  </tbody>\n",
       "</table>\n",
       "</div>"
      ],
      "text/plain": [
       "                          Name  \\\n",
       "0                  model_class   \n",
       "1                 input_shapes   \n",
       "2                         task   \n",
       "3                    optimizer   \n",
       "4  with_multi_layer_perceptron   \n",
       "5                mlp_num_units   \n",
       "6               mlp_num_layers   \n",
       "7              mlp_num_fan_out   \n",
       "8          mlp_activation_func   \n",
       "\n",
       "                                         Description  \\\n",
       "0  Model class. Used internally for save/load. Ch...   \n",
       "1  Dependent on the model and data. Should be set...   \n",
       "2     Decides model output shape, loss, and metrics.   \n",
       "3                                               None   \n",
       "4  A flag of whether a multiple layer perceptron ...   \n",
       "5  Number of units in first `mlp_num_layers` layers.   \n",
       "6  Number of layers of the multiple layer percetron.   \n",
       "7  Number of units of the layer that connects the...   \n",
       "8  Activation function used in the multiple layer...   \n",
       "\n",
       "                                               Value  \\\n",
       "0  <class 'matchzoo.models.dense_baseline.DenseBa...   \n",
       "1                                     [(30,), (30,)]   \n",
       "2                                       Ranking Task   \n",
       "3                                               adam   \n",
       "4                                               True   \n",
       "5                                                455   \n",
       "6                                                  2   \n",
       "7                                                 60   \n",
       "8                                               relu   \n",
       "\n",
       "                                         Hyper-Space  \n",
       "0                                               None  \n",
       "1                                               None  \n",
       "2                                               None  \n",
       "3                                               None  \n",
       "4                                               None  \n",
       "5  quantitative uniform distribution in  [16, 512...  \n",
       "6  quantitative uniform distribution in  [1, 5), ...  \n",
       "7  quantitative uniform distribution in  [4, 128)...  \n",
       "8                                               None  "
      ]
     },
     "execution_count": 14,
     "metadata": {},
     "output_type": "execute_result"
    }
   ],
   "source": [
    "results['best']['params'].to_frame()"
   ]
  },
  {
   "cell_type": "markdown",
   "metadata": {},
   "source": [
    "## understading hyper-space"
   ]
  },
  {
   "cell_type": "markdown",
   "metadata": {},
   "source": [
    "`model.params.hyper_space` reprensents the model's hyper-parameters search space, which is the cross-product of individual hyper parameter's hyper space. When a `Tuner` builds a model, for each hyper parameter in `model.params`, if the hyper-parameter has a hyper-space, then a sample will be taken in the space. However, if the hyper-parameter does not have a hyper-space, then the default value of the hyper-parameter will be used."
   ]
  },
  {
   "cell_type": "code",
   "execution_count": 15,
   "metadata": {
    "ExecuteTime": {
     "end_time": "2019-01-26T08:53:16.177569Z",
     "start_time": "2019-01-26T08:53:16.173883Z"
    }
   },
   "outputs": [
    {
     "data": {
      "text/plain": [
       "{'mlp_num_units': <hyperopt.pyll.base.Apply at 0x136f65080>,\n",
       " 'mlp_num_layers': <hyperopt.pyll.base.Apply at 0x136f65160>,\n",
       " 'mlp_num_fan_out': <hyperopt.pyll.base.Apply at 0x136ede080>}"
      ]
     },
     "execution_count": 15,
     "metadata": {},
     "output_type": "execute_result"
    }
   ],
   "source": [
    "model.params.hyper_space"
   ]
  },
  {
   "cell_type": "markdown",
   "metadata": {},
   "source": [
    "In a `DenseBaseline` model, only `mlp_num_units`, `mlp_num_layers`, and `mlp_num_fan_out` have pre-defined hyper-space. In other words, only these hyper-parameters will change values during a tuning. Other hyper-parameters, like `mlp_activation_func`, are fixed and will not change."
   ]
  },
  {
   "cell_type": "code",
   "execution_count": 16,
   "metadata": {
    "ExecuteTime": {
     "end_time": "2019-01-26T10:32:27.989351Z",
     "start_time": "2019-01-26T10:32:27.959052Z"
    }
   },
   "outputs": [
    {
     "name": "stdout",
     "output_type": "stream",
     "text": [
      "if sampled: {'mlp_num_fan_out': 28.0, 'mlp_num_layers': 3.0, 'mlp_num_units': 471.0} \n",
      "\n",
      "the built model will have:\n",
      "\n",
      "model_class                   <class 'matchzoo.models.dense_baseline.DenseBaseline'>\n",
      "input_shapes                  [(30,), (30,)]\n",
      "task                          Ranking Task\n",
      "optimizer                     adam\n",
      "with_multi_layer_perceptron   True\n",
      "mlp_num_units                 471\n",
      "mlp_num_layers                3\n",
      "mlp_num_fan_out               28\n",
      "mlp_activation_func           relu \n",
      "\n",
      "\n",
      "\n",
      "if sampled: {'mlp_num_fan_out': 40.0, 'mlp_num_layers': 2.0, 'mlp_num_units': 25.0} \n",
      "\n",
      "the built model will have:\n",
      "\n",
      "model_class                   <class 'matchzoo.models.dense_baseline.DenseBaseline'>\n",
      "input_shapes                  [(30,), (30,)]\n",
      "task                          Ranking Task\n",
      "optimizer                     adam\n",
      "with_multi_layer_perceptron   True\n",
      "mlp_num_units                 25\n",
      "mlp_num_layers                2\n",
      "mlp_num_fan_out               40\n",
      "mlp_activation_func           relu \n",
      "\n",
      "\n",
      "\n",
      "if sampled: {'mlp_num_fan_out': 56.0, 'mlp_num_layers': 5.0, 'mlp_num_units': 332.0} \n",
      "\n",
      "the built model will have:\n",
      "\n",
      "model_class                   <class 'matchzoo.models.dense_baseline.DenseBaseline'>\n",
      "input_shapes                  [(30,), (30,)]\n",
      "task                          Ranking Task\n",
      "optimizer                     adam\n",
      "with_multi_layer_perceptron   True\n",
      "mlp_num_units                 332\n",
      "mlp_num_layers                5\n",
      "mlp_num_fan_out               56\n",
      "mlp_activation_func           relu \n",
      "\n",
      "\n",
      "\n"
     ]
    }
   ],
   "source": [
    "def sample_and_build(params):\n",
    "    sample = mz.hyper_spaces.sample(params.hyper_space)\n",
    "    print('if sampled:', sample, '\\n')\n",
    "    params.update(sample)\n",
    "    print('the built model will have:\\n')\n",
    "    print(params, '\\n\\n\\n')\n",
    "\n",
    "for _ in range(3):\n",
    "    sample_and_build(model.params)"
   ]
  },
  {
   "cell_type": "code",
   "execution_count": null,
   "metadata": {
    "ExecuteTime": {
     "end_time": "2019-01-14T13:42:49.526807Z",
     "start_time": "2019-01-14T13:42:49.496777Z"
    },
    "collapsed": true
   },
   "outputs": [],
   "source": [
    "This is similar to the process of a tuner sampling model hyper-parameters, but with one key difference: a tuner's hyper-space is **suggestive**. This means the sampling process in a tuner is not truely random but skewed. Scores of the past samples affect future choices: a tuner with more runs knows better about its hyper-space, and take samples in a way that will likely yields better scores.\n",
    "\n",
    "For more details, consult tuner's backend: [hyperopt](http://hyperopt.github.io/hyperopt/), and the search algorithm tuner uses: [Tree of Parzen Estimators (TPE)](https://papers.nips.cc/paper/4443-algorithms-for-hyper-parameter-optimization.pdf)"
   ]
  },
  {
   "cell_type": "markdown",
   "metadata": {},
   "source": [
    "Hyper-spaces can also be represented in a human-readable format."
   ]
  },
  {
   "cell_type": "code",
   "execution_count": 8,
   "metadata": {
    "ExecuteTime": {
     "end_time": "2019-01-17T15:29:14.098741Z",
     "start_time": "2019-01-17T15:29:14.094387Z"
    }
   },
   "outputs": [
    {
     "name": "stdout",
     "output_type": "stream",
     "text": [
      "quantitative uniform distribution in  [16, 512), with a step size of 1\n"
     ]
    }
   ],
   "source": [
    "print(model.params.get('mlp_num_units').hyper_space)"
   ]
  },
  {
   "cell_type": "code",
   "execution_count": 9,
   "metadata": {
    "ExecuteTime": {
     "end_time": "2019-01-17T15:29:14.117687Z",
     "start_time": "2019-01-17T15:29:14.100955Z"
    }
   },
   "outputs": [
    {
     "data": {
      "text/html": [
       "<div>\n",
       "<style scoped>\n",
       "    .dataframe tbody tr th:only-of-type {\n",
       "        vertical-align: middle;\n",
       "    }\n",
       "\n",
       "    .dataframe tbody tr th {\n",
       "        vertical-align: top;\n",
       "    }\n",
       "\n",
       "    .dataframe thead th {\n",
       "        text-align: right;\n",
       "    }\n",
       "</style>\n",
       "<table border=\"1\" class=\"dataframe\">\n",
       "  <thead>\n",
       "    <tr style=\"text-align: right;\">\n",
       "      <th></th>\n",
       "      <th>Name</th>\n",
       "      <th>Hyper-Space</th>\n",
       "    </tr>\n",
       "  </thead>\n",
       "  <tbody>\n",
       "    <tr>\n",
       "      <th>0</th>\n",
       "      <td>model_class</td>\n",
       "      <td>None</td>\n",
       "    </tr>\n",
       "    <tr>\n",
       "      <th>1</th>\n",
       "      <td>input_shapes</td>\n",
       "      <td>None</td>\n",
       "    </tr>\n",
       "    <tr>\n",
       "      <th>2</th>\n",
       "      <td>task</td>\n",
       "      <td>None</td>\n",
       "    </tr>\n",
       "    <tr>\n",
       "      <th>3</th>\n",
       "      <td>optimizer</td>\n",
       "      <td>None</td>\n",
       "    </tr>\n",
       "    <tr>\n",
       "      <th>4</th>\n",
       "      <td>with_multi_layer_perceptron</td>\n",
       "      <td>None</td>\n",
       "    </tr>\n",
       "    <tr>\n",
       "      <th>5</th>\n",
       "      <td>mlp_num_units</td>\n",
       "      <td>quantitative uniform distribution in  [16, 512...</td>\n",
       "    </tr>\n",
       "    <tr>\n",
       "      <th>6</th>\n",
       "      <td>mlp_num_layers</td>\n",
       "      <td>quantitative uniform distribution in  [1, 5), ...</td>\n",
       "    </tr>\n",
       "    <tr>\n",
       "      <th>7</th>\n",
       "      <td>mlp_num_fan_out</td>\n",
       "      <td>quantitative uniform distribution in  [4, 128)...</td>\n",
       "    </tr>\n",
       "    <tr>\n",
       "      <th>8</th>\n",
       "      <td>mlp_activation_func</td>\n",
       "      <td>None</td>\n",
       "    </tr>\n",
       "  </tbody>\n",
       "</table>\n",
       "</div>"
      ],
      "text/plain": [
       "                          Name  \\\n",
       "0                  model_class   \n",
       "1                 input_shapes   \n",
       "2                         task   \n",
       "3                    optimizer   \n",
       "4  with_multi_layer_perceptron   \n",
       "5                mlp_num_units   \n",
       "6               mlp_num_layers   \n",
       "7              mlp_num_fan_out   \n",
       "8          mlp_activation_func   \n",
       "\n",
       "                                         Hyper-Space  \n",
       "0                                               None  \n",
       "1                                               None  \n",
       "2                                               None  \n",
       "3                                               None  \n",
       "4                                               None  \n",
       "5  quantitative uniform distribution in  [16, 512...  \n",
       "6  quantitative uniform distribution in  [1, 5), ...  \n",
       "7  quantitative uniform distribution in  [4, 128)...  \n",
       "8                                               None  "
      ]
     },
     "execution_count": 9,
     "metadata": {},
     "output_type": "execute_result"
    }
   ],
   "source": [
    "model.params.to_frame()[['Name', 'Hyper-Space']]"
   ]
  },
  {
   "cell_type": "markdown",
   "metadata": {},
   "source": [
    "### setting hyper-space"
   ]
  },
  {
   "cell_type": "markdown",
   "metadata": {},
   "source": [
    "What if I want the tuner to choose `optimizer` among `adam`, `adagrad`, and `rmsprop`?"
   ]
  },
  {
   "cell_type": "code",
   "execution_count": 10,
   "metadata": {
    "ExecuteTime": {
     "end_time": "2019-01-17T15:29:14.122491Z",
     "start_time": "2019-01-17T15:29:14.119557Z"
    },
    "collapsed": true
   },
   "outputs": [],
   "source": [
    "model.params.get('optimizer').hyper_space = mz.hyper_spaces.choice(['adam', 'adagrad', 'rmsprop'])"
   ]
  },
  {
   "cell_type": "code",
   "execution_count": 11,
   "metadata": {
    "ExecuteTime": {
     "end_time": "2019-01-17T15:29:14.163876Z",
     "start_time": "2019-01-17T15:29:14.124706Z"
    }
   },
   "outputs": [
    {
     "name": "stdout",
     "output_type": "stream",
     "text": [
      "{'mlp_num_fan_out': 20.0, 'mlp_num_layers': 4.0, 'mlp_num_units': 42.0, 'optimizer': 'adam'}\n",
      "{'mlp_num_fan_out': 96.0, 'mlp_num_layers': 3.0, 'mlp_num_units': 422.0, 'optimizer': 'adagrad'}\n",
      "{'mlp_num_fan_out': 124.0, 'mlp_num_layers': 4.0, 'mlp_num_units': 65.0, 'optimizer': 'adagrad'}\n",
      "{'mlp_num_fan_out': 36.0, 'mlp_num_layers': 3.0, 'mlp_num_units': 176.0, 'optimizer': 'adagrad'}\n",
      "{'mlp_num_fan_out': 128.0, 'mlp_num_layers': 4.0, 'mlp_num_units': 448.0, 'optimizer': 'adam'}\n",
      "{'mlp_num_fan_out': 36.0, 'mlp_num_layers': 3.0, 'mlp_num_units': 371.0, 'optimizer': 'rmsprop'}\n",
      "{'mlp_num_fan_out': 8.0, 'mlp_num_layers': 5.0, 'mlp_num_units': 486.0, 'optimizer': 'adam'}\n",
      "{'mlp_num_fan_out': 24.0, 'mlp_num_layers': 4.0, 'mlp_num_units': 158.0, 'optimizer': 'adam'}\n",
      "{'mlp_num_fan_out': 56.0, 'mlp_num_layers': 5.0, 'mlp_num_units': 199.0, 'optimizer': 'adagrad'}\n",
      "{'mlp_num_fan_out': 100.0, 'mlp_num_layers': 5.0, 'mlp_num_units': 437.0, 'optimizer': 'adagrad'}\n"
     ]
    }
   ],
   "source": [
    "for _ in range(10):\n",
    "    print(mz.hyper_spaces.sample(model.params.hyper_space))"
   ]
  },
  {
   "cell_type": "markdown",
   "metadata": {},
   "source": [
    "What about setting `mlp_num_layers` to a fixed value of 2?"
   ]
  },
  {
   "cell_type": "code",
   "execution_count": 12,
   "metadata": {
    "ExecuteTime": {
     "end_time": "2019-01-17T15:29:14.168368Z",
     "start_time": "2019-01-17T15:29:14.165694Z"
    },
    "collapsed": true
   },
   "outputs": [],
   "source": [
    "model.params['mlp_num_layers'] = 2\n",
    "model.params.get('mlp_num_layers').hyper_space = None"
   ]
  },
  {
   "cell_type": "code",
   "execution_count": 13,
   "metadata": {
    "ExecuteTime": {
     "end_time": "2019-01-17T15:29:14.203519Z",
     "start_time": "2019-01-17T15:29:14.170098Z"
    }
   },
   "outputs": [
    {
     "name": "stdout",
     "output_type": "stream",
     "text": [
      "{'mlp_num_fan_out': 100.0, 'mlp_num_units': 254.0, 'optimizer': 'rmsprop'}\n",
      "{'mlp_num_fan_out': 60.0, 'mlp_num_units': 361.0, 'optimizer': 'adagrad'}\n",
      "{'mlp_num_fan_out': 60.0, 'mlp_num_units': 495.0, 'optimizer': 'rmsprop'}\n",
      "{'mlp_num_fan_out': 88.0, 'mlp_num_units': 494.0, 'optimizer': 'adam'}\n",
      "{'mlp_num_fan_out': 24.0, 'mlp_num_units': 259.0, 'optimizer': 'adagrad'}\n",
      "{'mlp_num_fan_out': 96.0, 'mlp_num_units': 422.0, 'optimizer': 'rmsprop'}\n",
      "{'mlp_num_fan_out': 44.0, 'mlp_num_units': 321.0, 'optimizer': 'rmsprop'}\n",
      "{'mlp_num_fan_out': 68.0, 'mlp_num_units': 276.0, 'optimizer': 'adagrad'}\n",
      "{'mlp_num_fan_out': 108.0, 'mlp_num_units': 35.0, 'optimizer': 'adam'}\n",
      "{'mlp_num_fan_out': 120.0, 'mlp_num_units': 200.0, 'optimizer': 'adam'}\n"
     ]
    }
   ],
   "source": [
    "for _ in range(10):\n",
    "    print(mz.hyper_spaces.sample(model.params.hyper_space))"
   ]
  },
  {
   "cell_type": "markdown",
   "metadata": {},
   "source": [
    "### using callbacks"
   ]
  },
  {
   "cell_type": "markdown",
   "metadata": {},
   "source": [
    "A `Tuner`'s `callbacks` is `[mz.auto.tuner.callbacks.LogResult()]` by default. This means in addition to returning results at the end of a `tune` call, the tuner also prints out result of each run during the `tune` call."
   ]
  },
  {
   "cell_type": "markdown",
   "metadata": {},
   "source": [
    "To save the model along the way, use `mz.auto.tuner.callbacks.SaveModel`."
   ]
  },
  {
   "cell_type": "code",
   "execution_count": 14,
   "metadata": {
    "ExecuteTime": {
     "end_time": "2019-01-17T15:29:16.131689Z",
     "start_time": "2019-01-17T15:29:14.205631Z"
    }
   },
   "outputs": [
    {
     "name": "stdout",
     "output_type": "stream",
     "text": [
      "WARNING: `tune` does not affect the tuner's inner state, so\n",
      "                each new call to `tune` starts fresh. In other words,\n",
      "                hyperspaces are suggestive only within the same `tune` call.\n",
      "Run #1\n",
      "Score: 0.125\n",
      "model_class                   <class 'matchzoo.models.dense_baseline.DenseBaseline'>\n",
      "input_shapes                  [(30,), (30,)]\n",
      "task                          Ranking Task\n",
      "optimizer                     adagrad\n",
      "with_multi_layer_perceptron   True\n",
      "mlp_num_units                 153\n",
      "mlp_num_layers                2\n",
      "mlp_num_fan_out               20\n",
      "mlp_activation_func           relu\n",
      "\n",
      "Run #2\n",
      "Score: 0.08333333333333333\n",
      "model_class                   <class 'matchzoo.models.dense_baseline.DenseBaseline'>\n",
      "input_shapes                  [(30,), (30,)]\n",
      "task                          Ranking Task\n",
      "optimizer                     rmsprop\n",
      "with_multi_layer_perceptron   True\n",
      "mlp_num_units                 259\n",
      "mlp_num_layers                2\n",
      "mlp_num_fan_out               60\n",
      "mlp_activation_func           relu\n",
      "\n"
     ]
    }
   ],
   "source": [
    "tuner.num_runs = 2\n",
    "tuner.callbacks.append(mz.auto.tuner.callbacks.SaveModel())\n",
    "results = tuner.tune()"
   ]
  },
  {
   "cell_type": "markdown",
   "metadata": {},
   "source": [
    "This will save all built models to your `mz.USER_TUNED_MODELS_DIR`, and can be loaded by:"
   ]
  },
  {
   "cell_type": "code",
   "execution_count": 15,
   "metadata": {
    "ExecuteTime": {
     "end_time": "2019-01-17T15:29:16.486829Z",
     "start_time": "2019-01-17T15:29:16.133087Z"
    }
   },
   "outputs": [
    {
     "data": {
      "text/plain": [
       "<matchzoo.models.dense_baseline.DenseBaseline at 0x133fb50b8>"
      ]
     },
     "execution_count": 15,
     "metadata": {},
     "output_type": "execute_result"
    }
   ],
   "source": [
    "best_model_id = results['best']['model_id']\n",
    "mz.load_model(mz.USER_TUNED_MODELS_DIR.joinpath(best_model_id))"
   ]
  },
  {
   "cell_type": "markdown",
   "metadata": {},
   "source": [
    "To load a pre-trained embedding layer into a built model during a tuning process, use `mz.auto.tuner.callbacks.LoadEmbeddingMatrix`."
   ]
  },
  {
   "cell_type": "code",
   "execution_count": 16,
   "metadata": {
    "ExecuteTime": {
     "end_time": "2019-01-17T15:29:20.994325Z",
     "start_time": "2019-01-17T15:29:16.488611Z"
    },
    "collapsed": true
   },
   "outputs": [],
   "source": [
    "glove_50 = mz.datasets.embeddings.load_glove_embedding(dimension=50)\n",
    "preprocessor = mz.models.DUET.get_default_preprocessor()\n",
    "train = preprocessor.fit_transform(train_raw, verbose=0)\n",
    "dev = preprocessor.transform(dev_raw, verbose=0)\n",
    "params = mz.models.DUET.get_default_params()\n",
    "params['task'] = mz.tasks.Ranking()\n",
    "params['input_shapes'] = preprocessor.context['input_shapes']\n",
    "params['embedding_input_dim'] = preprocessor.context['vocab_size']\n",
    "params['embedding_output_dim'] = 50"
   ]
  },
  {
   "cell_type": "code",
   "execution_count": 17,
   "metadata": {
    "ExecuteTime": {
     "end_time": "2019-01-17T15:29:23.208848Z",
     "start_time": "2019-01-17T15:29:20.996018Z"
    },
    "collapsed": true
   },
   "outputs": [],
   "source": [
    "embedding_matrix = glove_50.build_matrix(preprocessor.context['vocab_unit'].state['term_index'])\n",
    "load_embedding_matrix_callback = mz.auto.tuner.callbacks.LoadEmbeddingMatrix(embedding_matrix)"
   ]
  },
  {
   "cell_type": "code",
   "execution_count": 18,
   "metadata": {
    "ExecuteTime": {
     "end_time": "2019-01-17T15:29:26.596930Z",
     "start_time": "2019-01-17T15:29:23.214143Z"
    }
   },
   "outputs": [
    {
     "name": "stdout",
     "output_type": "stream",
     "text": [
      "Run #1\n",
      "Score: 0.16666666666666666\n",
      "model_class                   <class 'matchzoo.models.duet.DUET'>\n",
      "input_shapes                  [(30,), (30,)]\n",
      "task                          Ranking Task\n",
      "optimizer                     adam\n",
      "with_embedding                True\n",
      "embedding_input_dim           285\n",
      "embedding_output_dim          50\n",
      "embedding_trainable           True\n",
      "lm_filters                    32\n",
      "lm_hidden_sizes               [32]\n",
      "dm_filters                    32\n",
      "dm_kernel_size                3\n",
      "dm_q_hidden_size              32\n",
      "dm_d_mpool                    3\n",
      "dm_hidden_sizes               [32]\n",
      "padding                       same\n",
      "activation_func               relu\n",
      "dropout_rate                  0.72\n",
      "\n"
     ]
    }
   ],
   "source": [
    "tuner = mz.auto.tuner.Tuner(\n",
    "    params=params,\n",
    "    train_data=train,\n",
    "    test_data=dev,\n",
    "    num_runs=1\n",
    ")\n",
    "tuner.callbacks.append(load_embedding_matrix_callback)\n",
    "results = tuner.tune()"
   ]
  },
  {
   "cell_type": "markdown",
   "metadata": {},
   "source": [
    "### make your own callbacks"
   ]
  },
  {
   "cell_type": "markdown",
   "metadata": {},
   "source": [
    "To build your own callbacks, inherit `mz.auto.tuner.callbacks.Callback` and overrides corresponding methods.\n",
    "\n",
    "A run proceeds in the following way:\n",
    "\n",
    "- run start (callback)\n",
    "- build model\n",
    "- build end (callback)\n",
    "- fit and evaluate model\n",
    "- collect result\n",
    "- run end (callback)\n",
    "\n",
    "This process is repeated for `num_runs` times in a tuner."
   ]
  },
  {
   "cell_type": "markdown",
   "metadata": {},
   "source": [
    "For example, say I want to verify if my embedding matrix is correctly loaded."
   ]
  },
  {
   "cell_type": "code",
   "execution_count": 19,
   "metadata": {
    "ExecuteTime": {
     "end_time": "2019-01-17T15:29:26.606892Z",
     "start_time": "2019-01-17T15:29:26.602554Z"
    },
    "collapsed": true
   },
   "outputs": [],
   "source": [
    "import numpy as np\n",
    "\n",
    "class ValidateEmbedding(mz.auto.tuner.callbacks.Callback):\n",
    "    def __init__(self, embedding_matrix):\n",
    "        self._matrix = embedding_matrix\n",
    "        \n",
    "    def on_build_end(self, tuner, model):\n",
    "        loaded_matrix = model.get_embedding_layer().get_weights()[0]\n",
    "        if np.isclose(self._matrix, loaded_matrix).all():\n",
    "            print(\"Yes! The my embedding is correctly loaded!\")"
   ]
  },
  {
   "cell_type": "code",
   "execution_count": 20,
   "metadata": {
    "ExecuteTime": {
     "end_time": "2019-01-17T15:29:26.612917Z",
     "start_time": "2019-01-17T15:29:26.608897Z"
    },
    "collapsed": true
   },
   "outputs": [],
   "source": [
    "validate_embedding_matrix_callback = ValidateEmbedding(embedding_matrix)"
   ]
  },
  {
   "cell_type": "code",
   "execution_count": 21,
   "metadata": {
    "ExecuteTime": {
     "end_time": "2019-01-17T15:29:29.997865Z",
     "start_time": "2019-01-17T15:29:26.615325Z"
    }
   },
   "outputs": [
    {
     "name": "stdout",
     "output_type": "stream",
     "text": [
      "Yes! The my embedding is correctly loaded!\n"
     ]
    }
   ],
   "source": [
    "tuner = mz.auto.tuner.Tuner(\n",
    "    params=params,\n",
    "    train_data=train,\n",
    "    test_data=dev,\n",
    "    num_runs=1,\n",
    "    callbacks=[load_embedding_matrix_callback, validate_embedding_matrix_callback]\n",
    ")\n",
    "tuner.callbacks.append(load_embedding_matrix_callback)\n",
    "results = tuner.tune()"
   ]
  },
  {
   "cell_type": "markdown",
   "metadata": {},
   "source": [
    "## sandbox"
   ]
  },
  {
   "cell_type": "code",
   "execution_count": 1,
   "metadata": {
    "ExecuteTime": {
     "end_time": "2019-01-25T15:21:56.496812Z",
     "start_time": "2019-01-25T15:21:47.863914Z"
    }
   },
   "outputs": [
    {
     "name": "stderr",
     "output_type": "stream",
     "text": [
      "Using TensorFlow backend.\n"
     ]
    }
   ],
   "source": [
    "import matchzoo as mz\n",
    "train_raw = mz.datasets.toy.load_data('train', 'classification')\n",
    "dev_raw = mz.datasets.toy.load_data('dev', 'classification')\n",
    "test_raw = mz.datasets.toy.load_data('test', 'classification')\n",
    "embedding = mz.datasets.embeddings.load_glove_embedding()\n",
    "task = mz.tasks.Classification(num_classes=2)"
   ]
  },
  {
   "cell_type": "code",
   "execution_count": null,
   "metadata": {
    "ExecuteTime": {
     "end_time": "2019-01-19T12:15:00.356486Z",
     "start_time": "2019-01-19T12:14:56.051529Z"
    },
    "collapsed": true
   },
   "outputs": [],
   "source": [
    "import matchzoo as mz\n",
    "train_raw = mz.datasets.toy.load_data('train')\n",
    "dev_raw = mz.datasets.toy.load_data('dev')\n",
    "test_raw = mz.datasets.toy.load_data('test')\n",
    "embedding = mz.datasets.embeddings.load_glove_embedding()\n",
    "task = mz.tasks.Ranking(loss=mz.losses.RankCrossEntropyLoss(num_neg=4))"
   ]
  },
  {
   "cell_type": "code",
   "execution_count": 2,
   "metadata": {
    "ExecuteTime": {
     "end_time": "2019-01-19T11:18:20.477289Z",
     "start_time": "2019-01-19T11:18:20.474666Z"
    },
    "collapsed": true
   },
   "outputs": [],
   "source": [
    "classes = mz.models.list_available()"
   ]
  },
  {
   "cell_type": "code",
   "execution_count": 20,
   "metadata": {
    "ExecuteTime": {
     "end_time": "2019-01-25T15:49:20.771327Z",
     "start_time": "2019-01-25T15:49:20.302688Z"
    }
   },
   "outputs": [
    {
     "name": "stderr",
     "output_type": "stream",
     "text": [
      "Processing text_left with chain_transform of TokenizeUnit => LowercaseUnit => PuncRemovalUnit: 100%|██████████| 13/13 [00:00<00:00, 6232.25it/s]\n",
      "Processing text_right with chain_transform of TokenizeUnit => LowercaseUnit => PuncRemovalUnit: 100%|██████████| 100/100 [00:00<00:00, 5167.12it/s]\n",
      "Processing text_right with transform: 100%|██████████| 100/100 [00:00<00:00, 85336.81it/s]\n",
      "Processing text_left with transform: 100%|██████████| 13/13 [00:00<00:00, 21274.27it/s]\n",
      "Processing text_right with transform: 100%|██████████| 100/100 [00:00<00:00, 83953.24it/s]\n",
      "Processing length_left with len: 100%|██████████| 13/13 [00:00<00:00, 28517.76it/s]\n",
      "Processing length_right with len: 100%|██████████| 100/100 [00:00<00:00, 182838.01it/s]\n",
      "Processing text_left with transform: 100%|██████████| 13/13 [00:00<00:00, 21560.28it/s]\n",
      "Processing text_right with transform: 100%|██████████| 100/100 [00:00<00:00, 73623.03it/s]\n"
     ]
    },
    {
     "name": "stdout",
     "output_type": "stream",
     "text": [
      "Epoch 1/1\n",
      "1/1 [==============================] - 0s 328ms/step - loss: 0.6688\n"
     ]
    },
    {
     "data": {
      "text/plain": [
       "<keras.callbacks.History at 0x13d6a6cf8>"
      ]
     },
     "execution_count": 20,
     "metadata": {},
     "output_type": "execute_result"
    }
   ],
   "source": [
    "train = prpr.transform(train_raw)\n",
    "train_gen = gen_builder.build(train)\n",
    "model.fit_generator(train_gen)"
   ]
  },
  {
   "cell_type": "code",
   "execution_count": null,
   "metadata": {
    "collapsed": true
   },
   "outputs": [],
   "source": []
  },
  {
   "cell_type": "code",
   "execution_count": 98,
   "metadata": {
    "ExecuteTime": {
     "end_time": "2019-01-19T12:17:03.891100Z",
     "start_time": "2019-01-19T12:15:04.515736Z"
    },
    "scrolled": false
   },
   "outputs": [
    {
     "name": "stdout",
     "output_type": "stream",
     "text": [
      "<class 'matchzoo.models.dssm.DSSM'>\n",
      "Epoch 1/1\n",
      "1/1 [==============================] - 2s 2s/step - loss: 1.5347\n",
      "Run #1\n",
      "Score: 1.0\n",
      "model_class                   <class 'matchzoo.models.dssm.DSSM'>\n",
      "input_shapes                  [(1761,), (1761,)]\n",
      "task                          Ranking Task\n",
      "optimizer                     adam\n",
      "with_multi_layer_perceptron   True\n",
      "mlp_num_units                 80\n",
      "mlp_num_layers                3\n",
      "mlp_num_fan_out               52\n",
      "mlp_activation_func           relu\n",
      "\n",
      "Epoch 1/1\n",
      "1/1 [==============================] - 1s 1s/step - loss: 1.6049\n",
      "Run #2\n",
      "Score: 0.2\n",
      "model_class                   <class 'matchzoo.models.dssm.DSSM'>\n",
      "input_shapes                  [(1761,), (1761,)]\n",
      "task                          Ranking Task\n",
      "optimizer                     adam\n",
      "with_multi_layer_perceptron   True\n",
      "mlp_num_units                 240\n",
      "mlp_num_layers                3\n",
      "mlp_num_fan_out               84\n",
      "mlp_activation_func           relu\n",
      "\n",
      "<class 'matchzoo.models.cdssm.CDSSM'>\n",
      "Epoch 1/1\n",
      "1/1 [==============================] - 2s 2s/step - loss: 1.6274\n",
      "Run #1\n",
      "Score: 0.25\n",
      "model_class                   <class 'matchzoo.models.cdssm.CDSSM'>\n",
      "input_shapes                  [(10, 1761), (40, 1761)]\n",
      "task                          Ranking Task\n",
      "optimizer                     adam\n",
      "with_multi_layer_perceptron   True\n",
      "mlp_num_units                 120\n",
      "mlp_num_layers                5\n",
      "mlp_num_fan_out               52\n",
      "mlp_activation_func           relu\n",
      "filters                       32\n",
      "kernel_size                   3\n",
      "strides                       1\n",
      "padding                       same\n",
      "conv_activation_func          relu\n",
      "w_initializer                 glorot_normal\n",
      "b_initializer                 zeros\n",
      "dropout_rate                  0.3\n",
      "\n",
      "Epoch 1/1\n",
      "1/1 [==============================] - 2s 2s/step - loss: 1.5169\n",
      "Run #2\n",
      "Score: 0.3333333333333333\n",
      "model_class                   <class 'matchzoo.models.cdssm.CDSSM'>\n",
      "input_shapes                  [(10, 1761), (40, 1761)]\n",
      "task                          Ranking Task\n",
      "optimizer                     adam\n",
      "with_multi_layer_perceptron   True\n",
      "mlp_num_units                 128\n",
      "mlp_num_layers                3\n",
      "mlp_num_fan_out               36\n",
      "mlp_activation_func           relu\n",
      "filters                       32\n",
      "kernel_size                   3\n",
      "strides                       1\n",
      "padding                       same\n",
      "conv_activation_func          relu\n",
      "w_initializer                 glorot_normal\n",
      "b_initializer                 zeros\n",
      "dropout_rate                  0.3\n",
      "\n",
      "<class 'matchzoo.models.dense_baseline.DenseBaseline'>\n",
      "Epoch 1/1\n",
      "1/1 [==============================] - 2s 2s/step - loss: 11.1369\n",
      "Run #1\n",
      "Score: 0.5\n",
      "model_class                   <class 'matchzoo.models.dense_baseline.DenseBaseline'>\n",
      "input_shapes                  [(30,), (30,)]\n",
      "task                          Ranking Task\n",
      "optimizer                     adam\n",
      "with_multi_layer_perceptron   True\n",
      "mlp_num_units                 183\n",
      "mlp_num_layers                4\n",
      "mlp_num_fan_out               52\n",
      "mlp_activation_func           relu\n",
      "\n",
      "Epoch 1/1\n",
      "1/1 [==============================] - 2s 2s/step - loss: 8.4828\n",
      "Run #2\n",
      "Score: 0.5\n",
      "model_class                   <class 'matchzoo.models.dense_baseline.DenseBaseline'>\n",
      "input_shapes                  [(30,), (30,)]\n",
      "task                          Ranking Task\n",
      "optimizer                     adam\n",
      "with_multi_layer_perceptron   True\n",
      "mlp_num_units                 424\n",
      "mlp_num_layers                2\n",
      "mlp_num_fan_out               32\n",
      "mlp_activation_func           relu\n",
      "\n",
      "<class 'matchzoo.models.arci.ArcI'>\n",
      "Epoch 1/1\n",
      "1/1 [==============================] - 2s 2s/step - loss: 1.6039\n",
      "Run #1\n",
      "Score: 0.25\n",
      "model_class                   <class 'matchzoo.models.arci.ArcI'>\n",
      "input_shapes                  [(30,), (30,)]\n",
      "task                          Ranking Task\n",
      "optimizer                     adam\n",
      "with_embedding                True\n",
      "embedding_input_dim           285\n",
      "embedding_output_dim          50\n",
      "embedding_trainable           True\n",
      "with_multi_layer_perceptron   True\n",
      "mlp_num_units                 256\n",
      "mlp_num_layers                5\n",
      "mlp_num_fan_out               128\n",
      "mlp_activation_func           relu\n",
      "num_blocks                    1\n",
      "left_filters                  [32]\n",
      "left_kernel_sizes             [3]\n",
      "right_filters                 [32]\n",
      "right_kernel_sizes            [3]\n",
      "conv_activation_func          relu\n",
      "left_pool_sizes               [2]\n",
      "right_pool_sizes              [2]\n",
      "padding                       valid\n",
      "dropout_rate                  0.61\n",
      "\n",
      "Epoch 1/1\n",
      "1/1 [==============================] - 2s 2s/step - loss: 1.6540\n",
      "Run #2\n",
      "Score: 0.2\n",
      "model_class                   <class 'matchzoo.models.arci.ArcI'>\n",
      "input_shapes                  [(30,), (30,)]\n",
      "task                          Ranking Task\n",
      "optimizer                     adam\n",
      "with_embedding                True\n",
      "embedding_input_dim           285\n",
      "embedding_output_dim          50\n",
      "embedding_trainable           True\n",
      "with_multi_layer_perceptron   True\n",
      "mlp_num_units                 208\n",
      "mlp_num_layers                5\n",
      "mlp_num_fan_out               108\n",
      "mlp_activation_func           relu\n",
      "num_blocks                    1\n",
      "left_filters                  [32]\n",
      "left_kernel_sizes             [3]\n",
      "right_filters                 [32]\n",
      "right_kernel_sizes            [3]\n",
      "conv_activation_func          relu\n",
      "left_pool_sizes               [2]\n",
      "right_pool_sizes              [2]\n",
      "padding                       causal\n",
      "dropout_rate                  0.66\n",
      "\n",
      "<class 'matchzoo.models.arcii.ArcII'>\n",
      "Epoch 1/1\n",
      "1/1 [==============================] - 2s 2s/step - loss: 2.1365\n",
      "Run #1\n",
      "Score: 0.2\n",
      "model_class                   <class 'matchzoo.models.arcii.ArcII'>\n",
      "input_shapes                  [(30,), (30,)]\n",
      "task                          Ranking Task\n",
      "optimizer                     adam\n",
      "with_embedding                True\n",
      "embedding_input_dim           285\n",
      "embedding_output_dim          50\n",
      "embedding_trainable           True\n",
      "num_blocks                    1\n",
      "kernel_1d_count               32\n",
      "kernel_1d_size                3\n",
      "kernel_2d_count               [32]\n",
      "kernel_2d_size                [[3, 3]]\n",
      "activation                    relu\n",
      "pool_2d_size                  [[2, 2]]\n",
      "padding                       same\n",
      "dropout_rate                  0.3\n",
      "\n",
      "Epoch 1/1\n",
      "1/1 [==============================] - 2s 2s/step - loss: 2.1269\n",
      "Run #2\n",
      "Score: 0.5\n",
      "model_class                   <class 'matchzoo.models.arcii.ArcII'>\n",
      "input_shapes                  [(30,), (30,)]\n",
      "task                          Ranking Task\n",
      "optimizer                     adam\n",
      "with_embedding                True\n",
      "embedding_input_dim           285\n",
      "embedding_output_dim          50\n",
      "embedding_trainable           True\n",
      "num_blocks                    1\n",
      "kernel_1d_count               32\n",
      "kernel_1d_size                3\n",
      "kernel_2d_count               [32]\n",
      "kernel_2d_size                [[3, 3]]\n",
      "activation                    relu\n",
      "pool_2d_size                  [[2, 2]]\n",
      "padding                       valid\n",
      "dropout_rate                  0.59\n",
      "\n",
      "<class 'matchzoo.models.match_pyramid.MatchPyramid'>\n",
      "Epoch 1/1\n",
      "1/1 [==============================] - 2s 2s/step - loss: 2.1628\n",
      "Run #1\n",
      "Score: 1.0\n",
      "model_class                   <class 'matchzoo.models.match_pyramid.MatchPyramid'>\n",
      "input_shapes                  [(30,), (30,)]\n",
      "task                          Ranking Task\n",
      "optimizer                     adam\n",
      "with_embedding                True\n",
      "embedding_input_dim           285\n",
      "embedding_output_dim          50\n",
      "embedding_trainable           True\n",
      "num_blocks                    1\n",
      "kernel_count                  [32]\n",
      "kernel_size                   [[3, 3]]\n",
      "activation                    relu\n",
      "dpool_size                    [3, 10]\n",
      "padding                       same\n",
      "dropout_rate                  0.01\n",
      "\n",
      "Epoch 1/1\n",
      "1/1 [==============================] - 2s 2s/step - loss: 5.0651\n",
      "Run #2\n",
      "Score: 1.0\n",
      "model_class                   <class 'matchzoo.models.match_pyramid.MatchPyramid'>\n",
      "input_shapes                  [(30,), (30,)]\n",
      "task                          Ranking Task\n",
      "optimizer                     adam\n",
      "with_embedding                True\n",
      "embedding_input_dim           285\n",
      "embedding_output_dim          50\n",
      "embedding_trainable           True\n",
      "num_blocks                    1\n",
      "kernel_count                  [32]\n",
      "kernel_size                   [[3, 3]]\n",
      "activation                    relu\n",
      "dpool_size                    [3, 10]\n",
      "padding                       same\n",
      "dropout_rate                  0.29\n",
      "\n",
      "<class 'matchzoo.models.knrm.KNRM'>\n"
     ]
    },
    {
     "name": "stdout",
     "output_type": "stream",
     "text": [
      "Epoch 1/1\n",
      "1/1 [==============================] - 3s 3s/step - loss: 1.9335\n",
      "Run #1\n",
      "Score: 0.25\n",
      "model_class                   <class 'matchzoo.models.knrm.KNRM'>\n",
      "input_shapes                  [(30,), (30,)]\n",
      "task                          Ranking Task\n",
      "optimizer                     adam\n",
      "with_embedding                True\n",
      "embedding_input_dim           285\n",
      "embedding_output_dim          50\n",
      "embedding_trainable           True\n",
      "kernel_num                    14\n",
      "sigma                         0.11\n",
      "exact_sigma                   0.001\n",
      "\n",
      "Epoch 1/1\n",
      "1/1 [==============================] - 3s 3s/step - loss: 8.3235\n",
      "Run #2\n",
      "Score: 0.2\n",
      "model_class                   <class 'matchzoo.models.knrm.KNRM'>\n",
      "input_shapes                  [(30,), (30,)]\n",
      "task                          Ranking Task\n",
      "optimizer                     adam\n",
      "with_embedding                True\n",
      "embedding_input_dim           285\n",
      "embedding_output_dim          50\n",
      "embedding_trainable           True\n",
      "kernel_num                    9\n",
      "sigma                         0.15\n",
      "exact_sigma                   0.001\n",
      "\n",
      "<class 'matchzoo.models.duet.DUET'>\n",
      "Epoch 1/1\n",
      "1/1 [==============================] - 3s 3s/step - loss: 11.9248\n",
      "Run #1\n",
      "Score: 0.2\n",
      "model_class                   <class 'matchzoo.models.duet.DUET'>\n",
      "input_shapes                  [(30,), (30,)]\n",
      "task                          Ranking Task\n",
      "optimizer                     adam\n",
      "with_embedding                True\n",
      "embedding_input_dim           285\n",
      "embedding_output_dim          50\n",
      "embedding_trainable           True\n",
      "lm_filters                    32\n",
      "lm_hidden_sizes               [32]\n",
      "dm_filters                    32\n",
      "dm_kernel_size                3\n",
      "dm_q_hidden_size              32\n",
      "dm_d_mpool                    3\n",
      "dm_hidden_sizes               [32]\n",
      "padding                       same\n",
      "activation_func               relu\n",
      "dropout_rate                  0.58\n",
      "\n",
      "Epoch 1/1\n",
      "1/1 [==============================] - 3s 3s/step - loss: 6.8688\n",
      "Run #2\n",
      "Score: 0.2\n",
      "model_class                   <class 'matchzoo.models.duet.DUET'>\n",
      "input_shapes                  [(30,), (30,)]\n",
      "task                          Ranking Task\n",
      "optimizer                     adam\n",
      "with_embedding                True\n",
      "embedding_input_dim           285\n",
      "embedding_output_dim          50\n",
      "embedding_trainable           True\n",
      "lm_filters                    32\n",
      "lm_hidden_sizes               [32]\n",
      "dm_filters                    32\n",
      "dm_kernel_size                3\n",
      "dm_q_hidden_size              32\n",
      "dm_d_mpool                    3\n",
      "dm_hidden_sizes               [32]\n",
      "padding                       same\n",
      "activation_func               relu\n",
      "dropout_rate                  0.76\n",
      "\n",
      "<class 'matchzoo.models.drmmtks.DRMMTKS'>\n",
      "Epoch 1/1\n",
      "1/1 [==============================] - 3s 3s/step - loss: 1.6092\n",
      "Run #1\n",
      "Score: 0.25\n",
      "model_class                   <class 'matchzoo.models.drmmtks.DRMMTKS'>\n",
      "input_shapes                  [(30,), (30,)]\n",
      "task                          Ranking Task\n",
      "optimizer                     adam\n",
      "with_embedding                True\n",
      "embedding_input_dim           285\n",
      "embedding_output_dim          50\n",
      "embedding_trainable           True\n",
      "with_multi_layer_perceptron   True\n",
      "mlp_num_units                 56\n",
      "mlp_num_layers                5\n",
      "mlp_num_fan_out               72\n",
      "mlp_activation_func           relu\n",
      "mask_value                    -1\n",
      "top_k                         84\n",
      "\n",
      "Epoch 1/1\n",
      "1/1 [==============================] - 3s 3s/step - loss: 1.6130\n",
      "Run #2\n",
      "Score: 0.25\n",
      "model_class                   <class 'matchzoo.models.drmmtks.DRMMTKS'>\n",
      "input_shapes                  [(30,), (30,)]\n",
      "task                          Ranking Task\n",
      "optimizer                     adam\n",
      "with_embedding                True\n",
      "embedding_input_dim           285\n",
      "embedding_output_dim          50\n",
      "embedding_trainable           True\n",
      "with_multi_layer_perceptron   True\n",
      "mlp_num_units                 144\n",
      "mlp_num_layers                6\n",
      "mlp_num_fan_out               76\n",
      "mlp_activation_func           relu\n",
      "mask_value                    -1\n",
      "top_k                         41\n",
      "\n",
      "<class 'matchzoo.models.drmm.DRMM'>\n"
     ]
    },
    {
     "ename": "TypeError",
     "evalue": "can only concatenate tuple (not \"int\") to tuple",
     "output_type": "error",
     "traceback": [
      "\u001b[1;31m---------------------------------------------------------------------------\u001b[0m",
      "\u001b[1;31mTypeError\u001b[0m                                 Traceback (most recent call last)",
      "\u001b[1;32m<ipython-input-98-ca58da13e194>\u001b[0m in \u001b[0;36m<module>\u001b[1;34m\u001b[0m\n\u001b[0;32m      4\u001b[0m \u001b[1;31m# for model_class in [mz.models.MatchPyramid]:\u001b[0m\u001b[1;33m\u001b[0m\u001b[1;33m\u001b[0m\u001b[0m\n\u001b[0;32m      5\u001b[0m     \u001b[0mprint\u001b[0m\u001b[1;33m(\u001b[0m\u001b[0mmodel_class\u001b[0m\u001b[1;33m)\u001b[0m\u001b[1;33m\u001b[0m\u001b[0m\n\u001b[1;32m----> 6\u001b[1;33m     \u001b[0mmodel\u001b[0m\u001b[1;33m,\u001b[0m \u001b[0mpreprocessor\u001b[0m\u001b[1;33m,\u001b[0m \u001b[0mgen_builder\u001b[0m\u001b[1;33m,\u001b[0m \u001b[0membedding_matrix\u001b[0m \u001b[1;33m=\u001b[0m \u001b[0mkeeper\u001b[0m\u001b[1;33m.\u001b[0m\u001b[0mprepare\u001b[0m\u001b[1;33m(\u001b[0m\u001b[0mmodel_class\u001b[0m\u001b[1;33m,\u001b[0m \u001b[0mtrain_raw\u001b[0m\u001b[1;33m)\u001b[0m\u001b[1;33m\u001b[0m\u001b[0m\n\u001b[0m\u001b[0;32m      7\u001b[0m     \u001b[0mtrain\u001b[0m \u001b[1;33m=\u001b[0m \u001b[0mpreprocessor\u001b[0m\u001b[1;33m.\u001b[0m\u001b[0mtransform\u001b[0m\u001b[1;33m(\u001b[0m\u001b[0mtrain_raw\u001b[0m\u001b[1;33m,\u001b[0m \u001b[0mverbose\u001b[0m\u001b[1;33m=\u001b[0m\u001b[1;36m0\u001b[0m\u001b[1;33m)\u001b[0m\u001b[1;33m\u001b[0m\u001b[0m\n\u001b[0;32m      8\u001b[0m     \u001b[0mtest\u001b[0m \u001b[1;33m=\u001b[0m \u001b[0mpreprocessor\u001b[0m\u001b[1;33m.\u001b[0m\u001b[0mtransform\u001b[0m\u001b[1;33m(\u001b[0m\u001b[0mtest_raw\u001b[0m\u001b[1;33m,\u001b[0m \u001b[0mverbose\u001b[0m\u001b[1;33m=\u001b[0m\u001b[1;36m0\u001b[0m\u001b[1;33m)\u001b[0m\u001b[1;33m\u001b[0m\u001b[0m\n",
      "\u001b[1;32m~/GoogleDrive/Coding/MatchZoo/matchzoo/auto/zoo_keeper.py\u001b[0m in \u001b[0;36mprepare\u001b[1;34m(self, model_class, data_pack, preprocessor)\u001b[0m\n\u001b[0;32m     49\u001b[0m         \u001b[0mpreprocessor\u001b[0m\u001b[1;33m.\u001b[0m\u001b[0mfit\u001b[0m\u001b[1;33m(\u001b[0m\u001b[0mdata_pack\u001b[0m\u001b[1;33m,\u001b[0m \u001b[0mverbose\u001b[0m\u001b[1;33m=\u001b[0m\u001b[1;36m0\u001b[0m\u001b[1;33m)\u001b[0m\u001b[1;33m\u001b[0m\u001b[0m\n\u001b[0;32m     50\u001b[0m \u001b[1;33m\u001b[0m\u001b[0m\n\u001b[1;32m---> 51\u001b[1;33m         \u001b[0mmodel\u001b[0m \u001b[1;33m=\u001b[0m \u001b[0mself\u001b[0m\u001b[1;33m.\u001b[0m\u001b[0m_setup_model\u001b[0m\u001b[1;33m(\u001b[0m\u001b[0mmodel_class\u001b[0m\u001b[1;33m,\u001b[0m \u001b[0mpreprocessor\u001b[0m\u001b[1;33m)\u001b[0m\u001b[1;33m\u001b[0m\u001b[0m\n\u001b[0m\u001b[0;32m     52\u001b[0m \u001b[1;33m\u001b[0m\u001b[0m\n\u001b[0;32m     53\u001b[0m         \u001b[1;32mif\u001b[0m \u001b[1;34m'with_embedding'\u001b[0m \u001b[1;32min\u001b[0m \u001b[0mmodel\u001b[0m\u001b[1;33m.\u001b[0m\u001b[0mparams\u001b[0m\u001b[1;33m:\u001b[0m\u001b[1;33m\u001b[0m\u001b[0m\n",
      "\u001b[1;32m~/GoogleDrive/Coding/MatchZoo/matchzoo/auto/zoo_keeper.py\u001b[0m in \u001b[0;36m_setup_model\u001b[1;34m(self, model_class, preprocessor)\u001b[0m\n\u001b[0;32m     76\u001b[0m                 \u001b[1;34m'embedding_input_dim'\u001b[0m\u001b[1;33m:\u001b[0m \u001b[0mpreprocessor\u001b[0m\u001b[1;33m.\u001b[0m\u001b[0mcontext\u001b[0m\u001b[1;33m[\u001b[0m\u001b[1;34m'vocab_size'\u001b[0m\u001b[1;33m]\u001b[0m\u001b[1;33m\u001b[0m\u001b[0m\n\u001b[0;32m     77\u001b[0m             })\n\u001b[1;32m---> 78\u001b[1;33m         \u001b[0mself\u001b[0m\u001b[1;33m.\u001b[0m\u001b[0m_handle_drmm_input_shapes\u001b[0m\u001b[1;33m(\u001b[0m\u001b[0mmodel\u001b[0m\u001b[1;33m)\u001b[0m\u001b[1;33m\u001b[0m\u001b[0m\n\u001b[0m\u001b[0;32m     79\u001b[0m         \u001b[1;32mreturn\u001b[0m \u001b[0mmodel\u001b[0m\u001b[1;33m\u001b[0m\u001b[0m\n\u001b[0;32m     80\u001b[0m \u001b[1;33m\u001b[0m\u001b[0m\n",
      "\u001b[1;32m~/GoogleDrive/Coding/MatchZoo/matchzoo/auto/zoo_keeper.py\u001b[0m in \u001b[0;36m_handle_drmm_input_shapes\u001b[1;34m(self, model)\u001b[0m\n\u001b[0;32m     83\u001b[0m             \u001b[0mleft\u001b[0m \u001b[1;33m=\u001b[0m \u001b[0mmodel\u001b[0m\u001b[1;33m.\u001b[0m\u001b[0mparams\u001b[0m\u001b[1;33m[\u001b[0m\u001b[1;34m'input_shapes'\u001b[0m\u001b[1;33m]\u001b[0m\u001b[1;33m[\u001b[0m\u001b[1;36m0\u001b[0m\u001b[1;33m]\u001b[0m\u001b[1;33m\u001b[0m\u001b[0m\n\u001b[0;32m     84\u001b[0m             \u001b[0morig_right\u001b[0m \u001b[1;33m=\u001b[0m \u001b[0mmodel\u001b[0m\u001b[1;33m.\u001b[0m\u001b[0mparams\u001b[0m\u001b[1;33m[\u001b[0m\u001b[1;34m'input_shapes'\u001b[0m\u001b[1;33m]\u001b[0m\u001b[1;33m[\u001b[0m\u001b[1;36m1\u001b[0m\u001b[1;33m]\u001b[0m\u001b[1;33m\u001b[0m\u001b[0m\n\u001b[1;32m---> 85\u001b[1;33m             \u001b[0mupdated_right\u001b[0m \u001b[1;33m=\u001b[0m \u001b[0morig_right\u001b[0m \u001b[1;33m+\u001b[0m \u001b[0mself\u001b[0m\u001b[1;33m.\u001b[0m\u001b[0m_config\u001b[0m\u001b[1;33m[\u001b[0m\u001b[1;34m'bin_size'\u001b[0m\u001b[1;33m]\u001b[0m\u001b[1;33m\u001b[0m\u001b[0m\n\u001b[0m\u001b[0;32m     86\u001b[0m             \u001b[0mmodel\u001b[0m\u001b[1;33m.\u001b[0m\u001b[0mparams\u001b[0m\u001b[1;33m[\u001b[0m\u001b[1;34m'input_shapes'\u001b[0m\u001b[1;33m]\u001b[0m \u001b[1;33m=\u001b[0m \u001b[1;33m(\u001b[0m\u001b[0mleft\u001b[0m\u001b[1;33m,\u001b[0m \u001b[0mupdated_right\u001b[0m\u001b[1;33m)\u001b[0m\u001b[1;33m\u001b[0m\u001b[0m\n\u001b[0;32m     87\u001b[0m \u001b[1;33m\u001b[0m\u001b[0m\n",
      "\u001b[1;31mTypeError\u001b[0m: can only concatenate tuple (not \"int\") to tuple"
     ]
    }
   ],
   "source": [
    "bests = []\n",
    "for model_class in classes[1:]:\n",
    "    print(model_class)\n",
    "    model, preprocessor, gen_builder, embedding_matrix = mz.prepare(\n",
    "        task=task,\n",
    "        model_class=model_class,\n",
    "        data_pack=train_raw,\n",
    "        embedding=embedding\n",
    "    )\n",
    "    train = preprocessor.transform(train_raw, verbose=0)\n",
    "    test = preprocessor.transform(test_raw, verbose=0)\n",
    "    train_gen = gen_builder.build(train)\n",
    "    test_gen = gen_builder.build(test)\n",
    "    tuner = mz.auto.Tuner(\n",
    "        params=model.params,\n",
    "        train_data=train_gen,\n",
    "        test_data=test_gen,\n",
    "        fit_kwargs=dict(epochs=1),\n",
    "        num_runs=2\n",
    "    )\n",
    "    if 'with_embedding' in model.params:\n",
    "        tuner.callbacks.append(mz.tuner.callbacks.LoadEmbeddingMatrix(embedding_matrix))\n",
    "    results = tuner.tune()\n",
    "    bests.append(results['best'])\n",
    "print(bests)"
   ]
  },
  {
   "cell_type": "code",
   "execution_count": 8,
   "metadata": {
    "ExecuteTime": {
     "end_time": "2019-01-25T15:46:53.770481Z",
     "start_time": "2019-01-25T15:46:53.768052Z"
    },
    "collapsed": true
   },
   "outputs": [],
   "source": [
    "import dill"
   ]
  },
  {
   "cell_type": "code",
   "execution_count": 21,
   "metadata": {
    "ExecuteTime": {
     "end_time": "2019-01-25T15:49:25.802803Z",
     "start_time": "2019-01-25T15:49:25.784969Z"
    },
    "collapsed": true
   },
   "outputs": [],
   "source": [
    "dill.dump(train_gen, open('.tmpdill', 'wb'))"
   ]
  },
  {
   "cell_type": "code",
   "execution_count": 22,
   "metadata": {
    "ExecuteTime": {
     "end_time": "2019-01-25T15:49:28.899761Z",
     "start_time": "2019-01-25T15:49:28.894036Z"
    },
    "collapsed": true
   },
   "outputs": [],
   "source": [
    "train_load = dill.load(open('.tmpdill', 'rb'))"
   ]
  },
  {
   "cell_type": "code",
   "execution_count": 27,
   "metadata": {
    "ExecuteTime": {
     "end_time": "2019-01-25T15:49:43.264634Z",
     "start_time": "2019-01-25T15:49:43.252868Z"
    }
   },
   "outputs": [
    {
     "data": {
      "text/html": [
       "<div>\n",
       "<style scoped>\n",
       "    .dataframe tbody tr th:only-of-type {\n",
       "        vertical-align: middle;\n",
       "    }\n",
       "\n",
       "    .dataframe tbody tr th {\n",
       "        vertical-align: top;\n",
       "    }\n",
       "\n",
       "    .dataframe thead th {\n",
       "        text-align: right;\n",
       "    }\n",
       "</style>\n",
       "<table border=\"1\" class=\"dataframe\">\n",
       "  <thead>\n",
       "    <tr style=\"text-align: right;\">\n",
       "      <th></th>\n",
       "      <th>text_left</th>\n",
       "      <th>length_left</th>\n",
       "    </tr>\n",
       "    <tr>\n",
       "      <th>id_left</th>\n",
       "      <th></th>\n",
       "      <th></th>\n",
       "    </tr>\n",
       "  </thead>\n",
       "  <tbody>\n",
       "    <tr>\n",
       "      <th>Q1</th>\n",
       "      <td>[23, 9, 223, 252, 73, 0, 0, 0, 0, 0, 0, 0, 0, ...</td>\n",
       "      <td>5</td>\n",
       "    </tr>\n",
       "    <tr>\n",
       "      <th>Q2</th>\n",
       "      <td>[23, 9, 90, 220, 133, 90, 163, 232, 261, 262, ...</td>\n",
       "      <td>15</td>\n",
       "    </tr>\n",
       "    <tr>\n",
       "      <th>Q5</th>\n",
       "      <td>[23, 37, 134, 143, 62, 0, 0, 0, 0, 0, 0, 0, 0,...</td>\n",
       "      <td>5</td>\n",
       "    </tr>\n",
       "    <tr>\n",
       "      <th>Q6</th>\n",
       "      <td>[23, 136, 30, 90, 137, 7, 42, 2, 0, 0, 0, 0, 0...</td>\n",
       "      <td>8</td>\n",
       "    </tr>\n",
       "    <tr>\n",
       "      <th>Q7</th>\n",
       "      <td>[23, 236, 103, 280, 118, 81, 210, 101, 0, 0, 0...</td>\n",
       "      <td>8</td>\n",
       "    </tr>\n",
       "    <tr>\n",
       "      <th>Q9</th>\n",
       "      <td>[23, 236, 107, 101, 0, 0, 0, 0, 0, 0, 0, 0, 0,...</td>\n",
       "      <td>4</td>\n",
       "    </tr>\n",
       "    <tr>\n",
       "      <th>Q10</th>\n",
       "      <td>[23, 224, 64, 178, 34, 101, 0, 0, 0, 0, 0, 0, ...</td>\n",
       "      <td>6</td>\n",
       "    </tr>\n",
       "    <tr>\n",
       "      <th>Q12</th>\n",
       "      <td>[23, 15, 37, 141, 127, 28, 31, 82, 206, 265, 0...</td>\n",
       "      <td>10</td>\n",
       "    </tr>\n",
       "    <tr>\n",
       "      <th>Q13</th>\n",
       "      <td>[23, 15, 30, 90, 18, 190, 279, 0, 0, 0, 0, 0, ...</td>\n",
       "      <td>7</td>\n",
       "    </tr>\n",
       "    <tr>\n",
       "      <th>Q14</th>\n",
       "      <td>[23, 15, 205, 3, 234, 135, 0, 0, 0, 0, 0, 0, 0...</td>\n",
       "      <td>6</td>\n",
       "    </tr>\n",
       "    <tr>\n",
       "      <th>Q15</th>\n",
       "      <td>[23, 9, 114, 45, 207, 0, 0, 0, 0, 0, 0, 0, 0, ...</td>\n",
       "      <td>5</td>\n",
       "    </tr>\n",
       "    <tr>\n",
       "      <th>Q16</th>\n",
       "      <td>[23, 186, 30, 43, 138, 133, 155, 0, 0, 0, 0, 0...</td>\n",
       "      <td>7</td>\n",
       "    </tr>\n",
       "    <tr>\n",
       "      <th>Q17</th>\n",
       "      <td>[23, 186, 9, 90, 173, 269, 95, 32, 0, 0, 0, 0,...</td>\n",
       "      <td>8</td>\n",
       "    </tr>\n",
       "  </tbody>\n",
       "</table>\n",
       "</div>"
      ],
      "text/plain": [
       "                                                 text_left  length_left\n",
       "id_left                                                                \n",
       "Q1       [23, 9, 223, 252, 73, 0, 0, 0, 0, 0, 0, 0, 0, ...            5\n",
       "Q2       [23, 9, 90, 220, 133, 90, 163, 232, 261, 262, ...           15\n",
       "Q5       [23, 37, 134, 143, 62, 0, 0, 0, 0, 0, 0, 0, 0,...            5\n",
       "Q6       [23, 136, 30, 90, 137, 7, 42, 2, 0, 0, 0, 0, 0...            8\n",
       "Q7       [23, 236, 103, 280, 118, 81, 210, 101, 0, 0, 0...            8\n",
       "Q9       [23, 236, 107, 101, 0, 0, 0, 0, 0, 0, 0, 0, 0,...            4\n",
       "Q10      [23, 224, 64, 178, 34, 101, 0, 0, 0, 0, 0, 0, ...            6\n",
       "Q12      [23, 15, 37, 141, 127, 28, 31, 82, 206, 265, 0...           10\n",
       "Q13      [23, 15, 30, 90, 18, 190, 279, 0, 0, 0, 0, 0, ...            7\n",
       "Q14      [23, 15, 205, 3, 234, 135, 0, 0, 0, 0, 0, 0, 0...            6\n",
       "Q15      [23, 9, 114, 45, 207, 0, 0, 0, 0, 0, 0, 0, 0, ...            5\n",
       "Q16      [23, 186, 30, 43, 138, 133, 155, 0, 0, 0, 0, 0...            7\n",
       "Q17      [23, 186, 9, 90, 173, 269, 95, 32, 0, 0, 0, 0,...            8"
      ]
     },
     "execution_count": 27,
     "metadata": {},
     "output_type": "execute_result"
    }
   ],
   "source": [
    "train_load._data_pack.left"
   ]
  },
  {
   "cell_type": "code",
   "execution_count": 8,
   "metadata": {
    "ExecuteTime": {
     "end_time": "2019-01-19T03:54:24.425359Z",
     "start_time": "2019-01-19T03:54:16.494420Z"
    },
    "collapsed": true
   },
   "outputs": [],
   "source": [
    "# keeper = mz.ZooKeeper(mz.models.DSSM, task, embedding=embedding)\n",
    "# model, preprocessor, gen_builder, embedding_matrix = keeper.prepare(train_raw)\n",
    "# train = preprocessor.transform(train_raw, verbose=0)\n",
    "# test = preprocessor.transform(test_raw, verbose=0)\n",
    "# test_gen = gen_builder.build(test)"
   ]
  }
 ],
 "metadata": {
  "hide_input": false,
  "kernelspec": {
   "display_name": "matchzoo",
   "language": "python",
   "name": "matchzoo"
  },
  "language_info": {
   "codemirror_mode": {
    "name": "ipython",
    "version": 3
   },
   "file_extension": ".py",
   "mimetype": "text/x-python",
   "name": "python",
   "nbconvert_exporter": "python",
   "pygments_lexer": "ipython3",
   "version": "3.6.3"
  },
  "toc": {
   "nav_menu": {},
   "number_sections": true,
   "sideBar": true,
   "skip_h1_title": false,
   "toc_cell": false,
   "toc_position": {
    "height": "1679px",
    "left": "0px",
    "right": "909px",
    "top": "161px",
    "width": "171px"
   },
   "toc_section_display": "none",
   "toc_window_display": false
  },
  "varInspector": {
   "cols": {
    "lenName": 16,
    "lenType": 16,
    "lenVar": 40
   },
   "kernels_config": {
    "python": {
     "delete_cmd_postfix": "",
     "delete_cmd_prefix": "del ",
     "library": "var_list.py",
     "varRefreshCmd": "print(var_dic_list())"
    },
    "r": {
     "delete_cmd_postfix": ") ",
     "delete_cmd_prefix": "rm(",
     "library": "var_list.r",
     "varRefreshCmd": "cat(var_dic_list()) "
    }
   },
   "types_to_exclude": [
    "module",
    "function",
    "builtin_function_or_method",
    "instance",
    "_Feature"
   ],
   "window_display": false
  }
 },
 "nbformat": 4,
 "nbformat_minor": 2
}
